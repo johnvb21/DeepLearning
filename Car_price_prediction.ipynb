{
  "nbformat": 4,
  "nbformat_minor": 0,
  "metadata": {
    "colab": {
      "name": "mini_project1.ipynb",
      "provenance": [],
      "authorship_tag": "ABX9TyMUs7pL+Mi+tnMzjcyY1ThB",
      "include_colab_link": true
    },
    "kernelspec": {
      "name": "python3",
      "display_name": "Python 3"
    },
    "language_info": {
      "name": "python"
    }
  },
  "cells": [
    {
      "cell_type": "markdown",
      "metadata": {
        "id": "view-in-github",
        "colab_type": "text"
      },
      "source": [
        "<a href=\"https://colab.research.google.com/github/johnvb21/DeepLearning/blob/main/Car_price_prediction.ipynb\" target=\"_parent\"><img src=\"https://colab.research.google.com/assets/colab-badge.svg\" alt=\"Open In Colab\"/></a>"
      ]
    },
    {
      "cell_type": "code",
      "execution_count": 2,
      "metadata": {
        "id": "41EssQzQi5wu"
      },
      "outputs": [],
      "source": [
        "import tensorflow as tf\n",
        "import numpy as np\n",
        "import pandas as pd\n",
        "import sklearn\n",
        "import matplotlib.pyplot as plt\n",
        "from sklearn.model_selection import train_test_split\n",
        "from sklearn.compose import make_column_transformer\n",
        "from sklearn.preprocessing import MinMaxScaler, OneHotEncoder"
      ]
    },
    {
      "cell_type": "code",
      "source": [
        "car = pd.read_csv(\"/content/CarPrice_Assignment.csv\")"
      ],
      "metadata": {
        "id": "jvOTYEm2jSd4"
      },
      "execution_count": 3,
      "outputs": []
    },
    {
      "cell_type": "code",
      "source": [
        "preprocess = make_column_transformer(\n",
        "    (MinMaxScaler(), [\"wheelbase\",\n",
        "                    \"carlength\",\n",
        "                    \"carwidth\",\n",
        "                    \"carheight\",\n",
        "                    \"curbweight\",\n",
        "                    \"enginesize\",\n",
        "                    \"boreratio\",\n",
        "                    \"stroke\",\n",
        "                    \"compressionratio\",\n",
        "                    \"horsepower\",\n",
        "                    \"peakrpm\",\n",
        "                    \"citympg\",\n",
        "                    \"highwaympg\"]),\n",
        "    (OneHotEncoder(handle_unknown = \"ignore\"), [\"CarName\",\n",
        "                                                \"fueltype\",\n",
        "                                                \"aspiration\",\n",
        "                                                \"doornumber\",\n",
        "                                                \"carbody\",\n",
        "                                                \"drivewheel\",\n",
        "                                                \"enginelocation\",]), sparse_threshold=0\n",
        "                                          \n",
        ")"
      ],
      "metadata": {
        "id": "yvOdAVe0k8X-"
      },
      "execution_count": 4,
      "outputs": []
    },
    {
      "cell_type": "code",
      "source": [
        "X = car.drop(\"price\", axis=1)\n",
        "X = X.drop(\"car_ID\", axis=1)\n",
        "X = X.drop(\"symboling\", axis=1)\n",
        "\n",
        "Y = car[\"price\"]\n"
      ],
      "metadata": {
        "id": "jDJFQfaMoawn"
      },
      "execution_count": 5,
      "outputs": []
    },
    {
      "cell_type": "code",
      "source": [
        "X_train, X_test, Y_train, Y_test = train_test_split(X, Y, test_size=0.20, random_state=42)"
      ],
      "metadata": {
        "id": "BJoqBuQzofYT"
      },
      "execution_count": 6,
      "outputs": []
    },
    {
      "cell_type": "code",
      "source": [
        "preprocess.fit(X_train)"
      ],
      "metadata": {
        "id": "FaeZFjmApgVY",
        "colab": {
          "base_uri": "https://localhost:8080/"
        },
        "outputId": "189dae2b-e45e-4aa9-f86a-d247a5005257"
      },
      "execution_count": 7,
      "outputs": [
        {
          "output_type": "execute_result",
          "data": {
            "text/plain": [
              "ColumnTransformer(sparse_threshold=0,\n",
              "                  transformers=[('minmaxscaler', MinMaxScaler(),\n",
              "                                 ['wheelbase', 'carlength', 'carwidth',\n",
              "                                  'carheight', 'curbweight', 'enginesize',\n",
              "                                  'boreratio', 'stroke', 'compressionratio',\n",
              "                                  'horsepower', 'peakrpm', 'citympg',\n",
              "                                  'highwaympg']),\n",
              "                                ('onehotencoder',\n",
              "                                 OneHotEncoder(handle_unknown='ignore'),\n",
              "                                 ['CarName', 'fueltype', 'aspiration',\n",
              "                                  'doornumber', 'carbody', 'drivewheel',\n",
              "                                  'enginelocation'])])"
            ]
          },
          "metadata": {},
          "execution_count": 7
        }
      ]
    },
    {
      "cell_type": "code",
      "source": [
        "X_train_normal =preprocess.transform(X_train)\n",
        "X_test_normal = preprocess.transform(X_test)\n"
      ],
      "metadata": {
        "id": "zVGJ2fA9pkun"
      },
      "execution_count": 8,
      "outputs": []
    },
    {
      "cell_type": "code",
      "source": [
        "tf.random.set_seed(22)"
      ],
      "metadata": {
        "id": "-gzrCipKqXxq"
      },
      "execution_count": 9,
      "outputs": []
    },
    {
      "cell_type": "code",
      "source": [
        "model = tf.keras.Sequential([\n",
        "  tf.keras.layers.Dense(500, activation=\"relu\"),\n",
        "\n",
        "  tf.keras.layers.Dense(2000, activation=\"relu\"),\n",
        "  tf.keras.layers.Dense(2000, activation=\"relu\"),\n",
        "  tf.keras.layers.Dense(700, activation=\"relu\"),\n",
        "\n",
        "  tf.keras.layers.Dense(100, activation=\"relu\"),\n",
        "\n",
        "  tf.keras.layers.Dense(20, activation=\"relu\"),   \n",
        "  tf.keras.layers.Dense(1, activation=\"relu\")                         \n",
        "])"
      ],
      "metadata": {
        "id": "ISk8vUr8qplC"
      },
      "execution_count": 10,
      "outputs": []
    },
    {
      "cell_type": "code",
      "source": [
        "model.compile(loss=tf.keras.losses.mae,\n",
        "              optimizer=tf.keras.optimizers.Adam(lr = 10**(-(7/2))),\n",
        "              metrics=[\"mae\"])"
      ],
      "metadata": {
        "id": "w9f2tCrrq-YT",
        "colab": {
          "base_uri": "https://localhost:8080/"
        },
        "outputId": "d4fd199e-f1a1-49a3-ca83-91b8de3a7fce"
      },
      "execution_count": 11,
      "outputs": [
        {
          "output_type": "stream",
          "name": "stderr",
          "text": [
            "/usr/local/lib/python3.7/dist-packages/keras/optimizer_v2/adam.py:105: UserWarning: The `lr` argument is deprecated, use `learning_rate` instead.\n",
            "  super(Adam, self).__init__(name, **kwargs)\n"
          ]
        }
      ]
    },
    {
      "cell_type": "code",
      "source": [
        "# lrs = tf.keras.callbacks.LearningRateScheduler(lambda epoch: 1e-4 * 10**(epoch/20))"
      ],
      "metadata": {
        "id": "DAN9Dj6xYBfk"
      },
      "execution_count": 12,
      "outputs": []
    },
    {
      "cell_type": "code",
      "source": [
        "history=model.fit(X_train_normal, Y_train, epochs=150)"
      ],
      "metadata": {
        "id": "snFqUSKgsOX0",
        "colab": {
          "base_uri": "https://localhost:8080/"
        },
        "outputId": "a7be39e7-ee54-4177-f053-09c67c1714bb"
      },
      "execution_count": 13,
      "outputs": [
        {
          "output_type": "stream",
          "name": "stdout",
          "text": [
            "Epoch 1/150\n",
            "6/6 [==============================] - 1s 71ms/step - loss: 13221.8320 - mae: 13221.8320\n",
            "Epoch 2/150\n",
            "6/6 [==============================] - 0s 65ms/step - loss: 13203.5244 - mae: 13203.5244\n",
            "Epoch 3/150\n",
            "6/6 [==============================] - 0s 68ms/step - loss: 13104.2236 - mae: 13104.2236\n",
            "Epoch 4/150\n",
            "6/6 [==============================] - 0s 67ms/step - loss: 12713.5889 - mae: 12713.5889\n",
            "Epoch 5/150\n",
            "6/6 [==============================] - 0s 66ms/step - loss: 11462.0381 - mae: 11462.0381\n",
            "Epoch 6/150\n",
            "6/6 [==============================] - 0s 71ms/step - loss: 7980.6343 - mae: 7980.6343\n",
            "Epoch 7/150\n",
            "6/6 [==============================] - 0s 66ms/step - loss: 5381.1216 - mae: 5381.1216\n",
            "Epoch 8/150\n",
            "6/6 [==============================] - 0s 66ms/step - loss: 5895.6206 - mae: 5895.6206\n",
            "Epoch 9/150\n",
            "6/6 [==============================] - 0s 66ms/step - loss: 4582.9585 - mae: 4582.9585\n",
            "Epoch 10/150\n",
            "6/6 [==============================] - 0s 66ms/step - loss: 4363.1440 - mae: 4363.1440\n",
            "Epoch 11/150\n",
            "6/6 [==============================] - 0s 72ms/step - loss: 3844.1150 - mae: 3844.1150\n",
            "Epoch 12/150\n",
            "6/6 [==============================] - 0s 66ms/step - loss: 3479.5176 - mae: 3479.5176\n",
            "Epoch 13/150\n",
            "6/6 [==============================] - 0s 69ms/step - loss: 3144.8958 - mae: 3144.8958\n",
            "Epoch 14/150\n",
            "6/6 [==============================] - 0s 67ms/step - loss: 3090.5820 - mae: 3090.5820\n",
            "Epoch 15/150\n",
            "6/6 [==============================] - 0s 68ms/step - loss: 2763.2520 - mae: 2763.2520\n",
            "Epoch 16/150\n",
            "6/6 [==============================] - 0s 69ms/step - loss: 2594.7512 - mae: 2594.7512\n",
            "Epoch 17/150\n",
            "6/6 [==============================] - 0s 64ms/step - loss: 2518.4404 - mae: 2518.4404\n",
            "Epoch 18/150\n",
            "6/6 [==============================] - 0s 68ms/step - loss: 2476.3574 - mae: 2476.3574\n",
            "Epoch 19/150\n",
            "6/6 [==============================] - 0s 67ms/step - loss: 2194.9397 - mae: 2194.9397\n",
            "Epoch 20/150\n",
            "6/6 [==============================] - 0s 67ms/step - loss: 2187.9141 - mae: 2187.9141\n",
            "Epoch 21/150\n",
            "6/6 [==============================] - 0s 69ms/step - loss: 2135.9377 - mae: 2135.9377\n",
            "Epoch 22/150\n",
            "6/6 [==============================] - 0s 70ms/step - loss: 2044.9204 - mae: 2044.9204\n",
            "Epoch 23/150\n",
            "6/6 [==============================] - 0s 66ms/step - loss: 1918.2513 - mae: 1918.2513\n",
            "Epoch 24/150\n",
            "6/6 [==============================] - 0s 71ms/step - loss: 1856.7397 - mae: 1856.7397\n",
            "Epoch 25/150\n",
            "6/6 [==============================] - 0s 65ms/step - loss: 1782.0293 - mae: 1782.0293\n",
            "Epoch 26/150\n",
            "6/6 [==============================] - 0s 68ms/step - loss: 1690.5164 - mae: 1690.5164\n",
            "Epoch 27/150\n",
            "6/6 [==============================] - 0s 66ms/step - loss: 1612.4958 - mae: 1612.4958\n",
            "Epoch 28/150\n",
            "6/6 [==============================] - 0s 70ms/step - loss: 1587.9911 - mae: 1587.9911\n",
            "Epoch 29/150\n",
            "6/6 [==============================] - 0s 66ms/step - loss: 1502.8973 - mae: 1502.8973\n",
            "Epoch 30/150\n",
            "6/6 [==============================] - 0s 65ms/step - loss: 1418.5220 - mae: 1418.5220\n",
            "Epoch 31/150\n",
            "6/6 [==============================] - 0s 68ms/step - loss: 1507.0502 - mae: 1507.0502\n",
            "Epoch 32/150\n",
            "6/6 [==============================] - 0s 69ms/step - loss: 1198.1595 - mae: 1198.1595\n",
            "Epoch 33/150\n",
            "6/6 [==============================] - 0s 66ms/step - loss: 1198.4896 - mae: 1198.4896\n",
            "Epoch 34/150\n",
            "6/6 [==============================] - 0s 65ms/step - loss: 1061.1498 - mae: 1061.1498\n",
            "Epoch 35/150\n",
            "6/6 [==============================] - 0s 66ms/step - loss: 969.2023 - mae: 969.2023\n",
            "Epoch 36/150\n",
            "6/6 [==============================] - 0s 67ms/step - loss: 906.8555 - mae: 906.8555\n",
            "Epoch 37/150\n",
            "6/6 [==============================] - 0s 67ms/step - loss: 886.2451 - mae: 886.2451\n",
            "Epoch 38/150\n",
            "6/6 [==============================] - 0s 62ms/step - loss: 839.3532 - mae: 839.3532\n",
            "Epoch 39/150\n",
            "6/6 [==============================] - 0s 68ms/step - loss: 922.0159 - mae: 922.0159\n",
            "Epoch 40/150\n",
            "6/6 [==============================] - 0s 67ms/step - loss: 995.8899 - mae: 995.8899\n",
            "Epoch 41/150\n",
            "6/6 [==============================] - 0s 67ms/step - loss: 958.6666 - mae: 958.6666\n",
            "Epoch 42/150\n",
            "6/6 [==============================] - 0s 67ms/step - loss: 786.1935 - mae: 786.1935\n",
            "Epoch 43/150\n",
            "6/6 [==============================] - 0s 66ms/step - loss: 956.6318 - mae: 956.6318\n",
            "Epoch 44/150\n",
            "6/6 [==============================] - 0s 68ms/step - loss: 876.7224 - mae: 876.7224\n",
            "Epoch 45/150\n",
            "6/6 [==============================] - 0s 66ms/step - loss: 733.8391 - mae: 733.8391\n",
            "Epoch 46/150\n",
            "6/6 [==============================] - 0s 65ms/step - loss: 644.1913 - mae: 644.1913\n",
            "Epoch 47/150\n",
            "6/6 [==============================] - 0s 66ms/step - loss: 612.2302 - mae: 612.2302\n",
            "Epoch 48/150\n",
            "6/6 [==============================] - 0s 67ms/step - loss: 523.6418 - mae: 523.6418\n",
            "Epoch 49/150\n",
            "6/6 [==============================] - 0s 67ms/step - loss: 652.0726 - mae: 652.0726\n",
            "Epoch 50/150\n",
            "6/6 [==============================] - 0s 67ms/step - loss: 659.4504 - mae: 659.4504\n",
            "Epoch 51/150\n",
            "6/6 [==============================] - 0s 70ms/step - loss: 485.5100 - mae: 485.5100\n",
            "Epoch 52/150\n",
            "6/6 [==============================] - 0s 64ms/step - loss: 684.8401 - mae: 684.8401\n",
            "Epoch 53/150\n",
            "6/6 [==============================] - 0s 65ms/step - loss: 579.8940 - mae: 579.8940\n",
            "Epoch 54/150\n",
            "6/6 [==============================] - 0s 66ms/step - loss: 541.4252 - mae: 541.4252\n",
            "Epoch 55/150\n",
            "6/6 [==============================] - 0s 67ms/step - loss: 568.6971 - mae: 568.6971\n",
            "Epoch 56/150\n",
            "6/6 [==============================] - 0s 64ms/step - loss: 485.9445 - mae: 485.9445\n",
            "Epoch 57/150\n",
            "6/6 [==============================] - 0s 66ms/step - loss: 427.3207 - mae: 427.3207\n",
            "Epoch 58/150\n",
            "6/6 [==============================] - 0s 68ms/step - loss: 457.9460 - mae: 457.9460\n",
            "Epoch 59/150\n",
            "6/6 [==============================] - 0s 66ms/step - loss: 473.6260 - mae: 473.6260\n",
            "Epoch 60/150\n",
            "6/6 [==============================] - 0s 63ms/step - loss: 482.2441 - mae: 482.2441\n",
            "Epoch 61/150\n",
            "6/6 [==============================] - 0s 65ms/step - loss: 424.5435 - mae: 424.5435\n",
            "Epoch 62/150\n",
            "6/6 [==============================] - 0s 69ms/step - loss: 363.1929 - mae: 363.1929\n",
            "Epoch 63/150\n",
            "6/6 [==============================] - 0s 64ms/step - loss: 343.4091 - mae: 343.4091\n",
            "Epoch 64/150\n",
            "6/6 [==============================] - 0s 65ms/step - loss: 411.8295 - mae: 411.8295\n",
            "Epoch 65/150\n",
            "6/6 [==============================] - 0s 66ms/step - loss: 354.2295 - mae: 354.2295\n",
            "Epoch 66/150\n",
            "6/6 [==============================] - 0s 66ms/step - loss: 346.6017 - mae: 346.6017\n",
            "Epoch 67/150\n",
            "6/6 [==============================] - 0s 69ms/step - loss: 385.4486 - mae: 385.4486\n",
            "Epoch 68/150\n",
            "6/6 [==============================] - 0s 67ms/step - loss: 332.7116 - mae: 332.7116\n",
            "Epoch 69/150\n",
            "6/6 [==============================] - 0s 67ms/step - loss: 352.4411 - mae: 352.4411\n",
            "Epoch 70/150\n",
            "6/6 [==============================] - 0s 68ms/step - loss: 533.6409 - mae: 533.6409\n",
            "Epoch 71/150\n",
            "6/6 [==============================] - 1s 110ms/step - loss: 515.4753 - mae: 515.4753\n",
            "Epoch 72/150\n",
            "6/6 [==============================] - 1s 103ms/step - loss: 492.1651 - mae: 492.1651\n",
            "Epoch 73/150\n",
            "6/6 [==============================] - 1s 115ms/step - loss: 536.3143 - mae: 536.3143\n",
            "Epoch 74/150\n",
            "6/6 [==============================] - 1s 116ms/step - loss: 360.0527 - mae: 360.0527\n",
            "Epoch 75/150\n",
            "6/6 [==============================] - 1s 103ms/step - loss: 315.5308 - mae: 315.5308\n",
            "Epoch 76/150\n",
            "6/6 [==============================] - 1s 122ms/step - loss: 407.0062 - mae: 407.0062\n",
            "Epoch 77/150\n",
            "6/6 [==============================] - 1s 126ms/step - loss: 378.1803 - mae: 378.1803\n",
            "Epoch 78/150\n",
            "6/6 [==============================] - 1s 107ms/step - loss: 363.7487 - mae: 363.7487\n",
            "Epoch 79/150\n",
            "6/6 [==============================] - 1s 111ms/step - loss: 323.8636 - mae: 323.8636\n",
            "Epoch 80/150\n",
            "6/6 [==============================] - 1s 103ms/step - loss: 371.5626 - mae: 371.5626\n",
            "Epoch 81/150\n",
            "6/6 [==============================] - 1s 100ms/step - loss: 360.9468 - mae: 360.9468\n",
            "Epoch 82/150\n",
            "6/6 [==============================] - 1s 108ms/step - loss: 320.3740 - mae: 320.3740\n",
            "Epoch 83/150\n",
            "6/6 [==============================] - 1s 131ms/step - loss: 331.4658 - mae: 331.4658\n",
            "Epoch 84/150\n",
            "6/6 [==============================] - 1s 126ms/step - loss: 394.9704 - mae: 394.9704\n",
            "Epoch 85/150\n",
            "6/6 [==============================] - 1s 106ms/step - loss: 359.2968 - mae: 359.2968\n",
            "Epoch 86/150\n",
            "6/6 [==============================] - 1s 113ms/step - loss: 303.5661 - mae: 303.5661\n",
            "Epoch 87/150\n",
            "6/6 [==============================] - 1s 107ms/step - loss: 274.4496 - mae: 274.4496\n",
            "Epoch 88/150\n",
            "6/6 [==============================] - 1s 126ms/step - loss: 317.5805 - mae: 317.5805\n",
            "Epoch 89/150\n",
            "6/6 [==============================] - 1s 111ms/step - loss: 280.3258 - mae: 280.3258\n",
            "Epoch 90/150\n",
            "6/6 [==============================] - 1s 168ms/step - loss: 339.6677 - mae: 339.6677\n",
            "Epoch 91/150\n",
            "6/6 [==============================] - 1s 123ms/step - loss: 293.6047 - mae: 293.6047\n",
            "Epoch 92/150\n",
            "6/6 [==============================] - 1s 117ms/step - loss: 264.1683 - mae: 264.1683\n",
            "Epoch 93/150\n",
            "6/6 [==============================] - 1s 134ms/step - loss: 223.9533 - mae: 223.9533\n",
            "Epoch 94/150\n",
            "6/6 [==============================] - 1s 140ms/step - loss: 238.6259 - mae: 238.6259\n",
            "Epoch 95/150\n",
            "6/6 [==============================] - 1s 126ms/step - loss: 216.6100 - mae: 216.6100\n",
            "Epoch 96/150\n",
            "6/6 [==============================] - 1s 115ms/step - loss: 294.5878 - mae: 294.5878\n",
            "Epoch 97/150\n",
            "6/6 [==============================] - 1s 103ms/step - loss: 229.7312 - mae: 229.7312\n",
            "Epoch 98/150\n",
            "6/6 [==============================] - 1s 96ms/step - loss: 323.4956 - mae: 323.4956\n",
            "Epoch 99/150\n",
            "6/6 [==============================] - 1s 116ms/step - loss: 253.9552 - mae: 253.9552\n",
            "Epoch 100/150\n",
            "6/6 [==============================] - 1s 104ms/step - loss: 282.2560 - mae: 282.2560\n",
            "Epoch 101/150\n",
            "6/6 [==============================] - 1s 100ms/step - loss: 271.4131 - mae: 271.4131\n",
            "Epoch 102/150\n",
            "6/6 [==============================] - 1s 111ms/step - loss: 328.3934 - mae: 328.3934\n",
            "Epoch 103/150\n",
            "6/6 [==============================] - 1s 118ms/step - loss: 313.0457 - mae: 313.0457\n",
            "Epoch 104/150\n",
            "6/6 [==============================] - 1s 143ms/step - loss: 338.1293 - mae: 338.1293\n",
            "Epoch 105/150\n",
            "6/6 [==============================] - 1s 130ms/step - loss: 245.0154 - mae: 245.0154\n",
            "Epoch 106/150\n",
            "6/6 [==============================] - 1s 141ms/step - loss: 279.8253 - mae: 279.8253\n",
            "Epoch 107/150\n",
            "6/6 [==============================] - 1s 106ms/step - loss: 214.5278 - mae: 214.5278\n",
            "Epoch 108/150\n",
            "6/6 [==============================] - 1s 112ms/step - loss: 257.2053 - mae: 257.2053\n",
            "Epoch 109/150\n",
            "6/6 [==============================] - 1s 112ms/step - loss: 311.0847 - mae: 311.0847\n",
            "Epoch 110/150\n",
            "6/6 [==============================] - 1s 109ms/step - loss: 280.8510 - mae: 280.8510\n",
            "Epoch 111/150\n",
            "6/6 [==============================] - 1s 140ms/step - loss: 259.4294 - mae: 259.4294\n",
            "Epoch 112/150\n",
            "6/6 [==============================] - 1s 122ms/step - loss: 307.1017 - mae: 307.1017\n",
            "Epoch 113/150\n",
            "6/6 [==============================] - 1s 101ms/step - loss: 327.3810 - mae: 327.3810\n",
            "Epoch 114/150\n",
            "6/6 [==============================] - 1s 98ms/step - loss: 393.1736 - mae: 393.1736\n",
            "Epoch 115/150\n",
            "6/6 [==============================] - 1s 112ms/step - loss: 417.8686 - mae: 417.8686\n",
            "Epoch 116/150\n",
            "6/6 [==============================] - 1s 114ms/step - loss: 495.7577 - mae: 495.7577\n",
            "Epoch 117/150\n",
            "6/6 [==============================] - 1s 132ms/step - loss: 413.5413 - mae: 413.5413\n",
            "Epoch 118/150\n",
            "6/6 [==============================] - 1s 114ms/step - loss: 462.3300 - mae: 462.3300\n",
            "Epoch 119/150\n",
            "6/6 [==============================] - 1s 138ms/step - loss: 392.9464 - mae: 392.9464\n",
            "Epoch 120/150\n",
            "6/6 [==============================] - 1s 143ms/step - loss: 272.5021 - mae: 272.5021\n",
            "Epoch 121/150\n",
            "6/6 [==============================] - 1s 111ms/step - loss: 295.4461 - mae: 295.4461\n",
            "Epoch 122/150\n",
            "6/6 [==============================] - 1s 123ms/step - loss: 289.1715 - mae: 289.1715\n",
            "Epoch 123/150\n",
            "6/6 [==============================] - 0s 66ms/step - loss: 289.2798 - mae: 289.2798\n",
            "Epoch 124/150\n",
            "6/6 [==============================] - 0s 73ms/step - loss: 263.7077 - mae: 263.7077\n",
            "Epoch 125/150\n",
            "6/6 [==============================] - 0s 69ms/step - loss: 210.5293 - mae: 210.5293\n",
            "Epoch 126/150\n",
            "6/6 [==============================] - 0s 69ms/step - loss: 247.3361 - mae: 247.3361\n",
            "Epoch 127/150\n",
            "6/6 [==============================] - 0s 70ms/step - loss: 244.3098 - mae: 244.3098\n",
            "Epoch 128/150\n",
            "6/6 [==============================] - 0s 67ms/step - loss: 219.0341 - mae: 219.0341\n",
            "Epoch 129/150\n",
            "6/6 [==============================] - 0s 72ms/step - loss: 279.6649 - mae: 279.6649\n",
            "Epoch 130/150\n",
            "6/6 [==============================] - 0s 66ms/step - loss: 381.3311 - mae: 381.3311\n",
            "Epoch 131/150\n",
            "6/6 [==============================] - 0s 70ms/step - loss: 338.1676 - mae: 338.1676\n",
            "Epoch 132/150\n",
            "6/6 [==============================] - 0s 68ms/step - loss: 314.5519 - mae: 314.5519\n",
            "Epoch 133/150\n",
            "6/6 [==============================] - 0s 68ms/step - loss: 249.0299 - mae: 249.0299\n",
            "Epoch 134/150\n",
            "6/6 [==============================] - 0s 70ms/step - loss: 300.0669 - mae: 300.0669\n",
            "Epoch 135/150\n",
            "6/6 [==============================] - 0s 67ms/step - loss: 283.2611 - mae: 283.2611\n",
            "Epoch 136/150\n",
            "6/6 [==============================] - 0s 65ms/step - loss: 309.7299 - mae: 309.7299\n",
            "Epoch 137/150\n",
            "6/6 [==============================] - 0s 66ms/step - loss: 313.4316 - mae: 313.4316\n",
            "Epoch 138/150\n",
            "6/6 [==============================] - 0s 66ms/step - loss: 263.3775 - mae: 263.3775\n",
            "Epoch 139/150\n",
            "6/6 [==============================] - 0s 69ms/step - loss: 260.0956 - mae: 260.0956\n",
            "Epoch 140/150\n",
            "6/6 [==============================] - 0s 68ms/step - loss: 219.8102 - mae: 219.8102\n",
            "Epoch 141/150\n",
            "6/6 [==============================] - 0s 68ms/step - loss: 331.4005 - mae: 331.4005\n",
            "Epoch 142/150\n",
            "6/6 [==============================] - 0s 65ms/step - loss: 279.8919 - mae: 279.8919\n",
            "Epoch 143/150\n",
            "6/6 [==============================] - 0s 67ms/step - loss: 264.8278 - mae: 264.8278\n",
            "Epoch 144/150\n",
            "6/6 [==============================] - 0s 69ms/step - loss: 279.2527 - mae: 279.2527\n",
            "Epoch 145/150\n",
            "6/6 [==============================] - 0s 67ms/step - loss: 272.9754 - mae: 272.9754\n",
            "Epoch 146/150\n",
            "6/6 [==============================] - 0s 70ms/step - loss: 306.6903 - mae: 306.6903\n",
            "Epoch 147/150\n",
            "6/6 [==============================] - 0s 66ms/step - loss: 215.6303 - mae: 215.6303\n",
            "Epoch 148/150\n",
            "6/6 [==============================] - 0s 68ms/step - loss: 217.2298 - mae: 217.2298\n",
            "Epoch 149/150\n",
            "6/6 [==============================] - 0s 73ms/step - loss: 210.1931 - mae: 210.1931\n",
            "Epoch 150/150\n",
            "6/6 [==============================] - 0s 68ms/step - loss: 257.1253 - mae: 257.1253\n"
          ]
        }
      ]
    },
    {
      "cell_type": "code",
      "source": [
        "pd.DataFrame(history.history).plot()"
      ],
      "metadata": {
        "id": "qYpsrBx9Y6Lf",
        "colab": {
          "base_uri": "https://localhost:8080/",
          "height": 283
        },
        "outputId": "fb8a4d16-44d5-42bc-e106-6971e03c7032"
      },
      "execution_count": 19,
      "outputs": [
        {
          "output_type": "execute_result",
          "data": {
            "text/plain": [
              "<matplotlib.axes._subplots.AxesSubplot at 0x7f2d5c7e7410>"
            ]
          },
          "metadata": {},
          "execution_count": 19
        },
        {
          "output_type": "display_data",
          "data": {
            "text/plain": [
              "<Figure size 432x288 with 1 Axes>"
            ],
            "image/png": "[encoded data removed]"
          },
          "metadata": {
            "needs_background": "light"
          }
        }
      ]
    },
    {
      "cell_type": "code",
      "source": [
        "model.evaluate(X_test_normal, Y_test)"
      ],
      "metadata": {
        "id": "ZmqzwU02yP3o",
        "colab": {
          "base_uri": "https://localhost:8080/"
        },
        "outputId": "4b0bc6f3-e8f7-408d-b546-3d176c654bd3"
      },
      "execution_count": 20,
      "outputs": [
        {
          "output_type": "stream",
          "name": "stdout",
          "text": [
            "2/2 [==============================] - 0s 12ms/step - loss: 2207.8728 - mae: 2207.8728\n"
          ]
        },
        {
          "output_type": "execute_result",
          "data": {
            "text/plain": [
              "[2207.872802734375, 2207.872802734375]"
            ]
          },
          "metadata": {},
          "execution_count": 20
        }
      ]
    }
  ]
}