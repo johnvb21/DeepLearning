{
  "cells": [
    {
      "cell_type": "markdown",
      "metadata": {
        "id": "view-in-github",
        "colab_type": "text"
      },
      "source": [
        "<a href=\"https://colab.research.google.com/github/johnvb21/DeepLearning/blob/main/Multi_class_classification.ipynb\" target=\"_parent\"><img src=\"https://colab.research.google.com/assets/colab-badge.svg\" alt=\"Open In Colab\"/></a>"
      ]
    },
    {
      "cell_type": "code",
      "execution_count": null,
      "metadata": {
        "id": "lmfoG-Y1LO5I"
      },
      "outputs": [],
      "source": [
        "import tensorflow as tf"
      ]
    },
    {
      "cell_type": "code",
      "execution_count": null,
      "metadata": {
        "id": "zxdnqeCBLWKk"
      },
      "outputs": [],
      "source": [
        "import numpy as np\n",
        "import sklearn\n",
        "import pandas as pd\n",
        "from tensorflow.keras.datasets import fashion_mnist\n"
      ]
    },
    {
      "cell_type": "code",
      "execution_count": null,
      "metadata": {
        "id": "i7k5lq3LLf_t",
        "colab": {
          "base_uri": "https://localhost:8080/"
        },
        "outputId": "59ed9e4d-bd01-4ae9-d3ab-5a67f28ed646"
      },
      "outputs": [
        {
          "output_type": "stream",
          "name": "stdout",
          "text": [
            "Downloading data from https://storage.googleapis.com/tensorflow/tf-keras-datasets/train-labels-idx1-ubyte.gz\n",
            "32768/29515 [=================================] - 0s 0us/step\n",
            "40960/29515 [=========================================] - 0s 0us/step\n",
            "Downloading data from https://storage.googleapis.com/tensorflow/tf-keras-datasets/train-images-idx3-ubyte.gz\n",
            "26427392/26421880 [==============================] - 0s 0us/step\n",
            "26435584/26421880 [==============================] - 0s 0us/step\n",
            "Downloading data from https://storage.googleapis.com/tensorflow/tf-keras-datasets/t10k-labels-idx1-ubyte.gz\n",
            "16384/5148 [===============================================================================================] - 0s 0us/step\n",
            "Downloading data from https://storage.googleapis.com/tensorflow/tf-keras-datasets/t10k-images-idx3-ubyte.gz\n",
            "4423680/4422102 [==============================] - 0s 0us/step\n",
            "4431872/4422102 [==============================] - 0s 0us/step\n"
          ]
        }
      ],
      "source": [
        "(train_data , train_labels), (test_data, test_labels) = fashion_mnist.load_data()\n"
      ]
    },
    {
      "cell_type": "code",
      "execution_count": null,
      "metadata": {
        "id": "PfJ3HpIlMNX-"
      },
      "outputs": [],
      "source": [
        "import matplotlib.pyplot as plt"
      ]
    },
    {
      "cell_type": "code",
      "execution_count": null,
      "metadata": {
        "id": "fyxXMkwnMXat"
      },
      "outputs": [],
      "source": [
        "import random"
      ]
    },
    {
      "cell_type": "code",
      "execution_count": null,
      "metadata": {
        "colab": {
          "base_uri": "https://localhost:8080/",
          "height": 283
        },
        "id": "cCxzDDBLM19v",
        "outputId": "16a55528-3028-4a77-a743-55efa1817afb"
      },
      "outputs": [
        {
          "output_type": "execute_result",
          "data": {
            "text/plain": [
              "<matplotlib.image.AxesImage at 0x7f8308388910>"
            ]
          },
          "metadata": {},
          "execution_count": 6
        },
        {
          "output_type": "display_data",
          "data": {
            "text/plain": [
              "<Figure size 432x288 with 1 Axes>"
            ],
            "image/png": "[encoded data removed]"
          },
          "metadata": {
            "needs_background": "light"
          }
        }
      ],
      "source": [
        "plt.imshow(random.choice(train_data))"
      ]
    },
    {
      "cell_type": "code",
      "execution_count": null,
      "metadata": {
        "id": "vDXdej_pQS1v"
      },
      "outputs": [],
      "source": [
        "tf.random.set_seed(42)\n",
        "model = tf.keras.Sequential([\n",
        "  tf.keras.layers.Flatten(input_shape=(28,28)),\n",
        "  tf.keras.layers.Dense(100, activation= 'relu'),\n",
        "  tf.keras.layers.Dense(500, activation='relu'),\n",
        "  tf.keras.layers.Dense(500, activation='relu'),\n",
        "  tf.keras.layers.Dense(50, activation= 'relu'),\n",
        "  tf.keras.layers.Dense(10, activation='softmax')                             \n",
        "])"
      ]
    },
    {
      "cell_type": "code",
      "execution_count": null,
      "metadata": {
        "id": "7ivJJqgoRtNV"
      },
      "outputs": [],
      "source": [
        "model.compile(loss=tf.keras.losses.sparse_categorical_crossentropy,\n",
        "              optimizer=tf.keras.optimizers.Adam(),\n",
        "              metrics=['accuracy'])\n",
        "lrs = tf.keras.callbacks.LearningRateScheduler(lambda epoch: 1e-3 * 10**(epoch/20))\n",
        "train_data_norm= train_data /255.0\n",
        "test_data_norm = test_data /255.0"
      ]
    },
    {
      "cell_type": "code",
      "execution_count": null,
      "metadata": {
        "colab": {
          "base_uri": "https://localhost:8080/"
        },
        "id": "i63F1eEiSchx",
        "outputId": "c8c1f4ef-f171-486d-cfe7-cc31d9fcec7d"
      },
      "outputs": [
        {
          "output_type": "stream",
          "name": "stdout",
          "text": [
            "Epoch 1/15\n",
            "1875/1875 [==============================] - 26s 13ms/step - loss: 0.5026 - accuracy: 0.8187 - val_loss: 0.4205 - val_accuracy: 0.8510\n",
            "Epoch 2/15\n",
            "1875/1875 [==============================] - 20s 11ms/step - loss: 0.3751 - accuracy: 0.8631 - val_loss: 0.4260 - val_accuracy: 0.8505\n",
            "Epoch 3/15\n",
            "1875/1875 [==============================] - 18s 9ms/step - loss: 0.3415 - accuracy: 0.8740 - val_loss: 0.3939 - val_accuracy: 0.8605\n",
            "Epoch 4/15\n",
            "1875/1875 [==============================] - 19s 10ms/step - loss: 0.3179 - accuracy: 0.8834 - val_loss: 0.3652 - val_accuracy: 0.8685\n",
            "Epoch 5/15\n",
            "1875/1875 [==============================] - 17s 9ms/step - loss: 0.2999 - accuracy: 0.8890 - val_loss: 0.3759 - val_accuracy: 0.8684\n",
            "Epoch 6/15\n",
            "1875/1875 [==============================] - 19s 10ms/step - loss: 0.2847 - accuracy: 0.8930 - val_loss: 0.3818 - val_accuracy: 0.8603\n",
            "Epoch 7/15\n",
            "1875/1875 [==============================] - 17s 9ms/step - loss: 0.2727 - accuracy: 0.8971 - val_loss: 0.3642 - val_accuracy: 0.8725\n",
            "Epoch 8/15\n",
            "1875/1875 [==============================] - 18s 10ms/step - loss: 0.2629 - accuracy: 0.9015 - val_loss: 0.3455 - val_accuracy: 0.8806\n",
            "Epoch 9/15\n",
            "1875/1875 [==============================] - 17s 9ms/step - loss: 0.2523 - accuracy: 0.9053 - val_loss: 0.3698 - val_accuracy: 0.8796\n",
            "Epoch 10/15\n",
            "1875/1875 [==============================] - 17s 9ms/step - loss: 0.2442 - accuracy: 0.9078 - val_loss: 0.3304 - val_accuracy: 0.8838\n",
            "Epoch 11/15\n",
            "1875/1875 [==============================] - 16s 8ms/step - loss: 0.2354 - accuracy: 0.9111 - val_loss: 0.3612 - val_accuracy: 0.8822\n",
            "Epoch 12/15\n",
            "1875/1875 [==============================] - 16s 9ms/step - loss: 0.2289 - accuracy: 0.9133 - val_loss: 0.3523 - val_accuracy: 0.8828\n",
            "Epoch 13/15\n",
            "1875/1875 [==============================] - 16s 9ms/step - loss: 0.2169 - accuracy: 0.9177 - val_loss: 0.4152 - val_accuracy: 0.8732\n",
            "Epoch 14/15\n",
            "1875/1875 [==============================] - 16s 8ms/step - loss: 0.2146 - accuracy: 0.9173 - val_loss: 0.3467 - val_accuracy: 0.8847\n",
            "Epoch 15/15\n",
            "1875/1875 [==============================] - 18s 9ms/step - loss: 0.2076 - accuracy: 0.9207 - val_loss: 0.3455 - val_accuracy: 0.8866\n"
          ]
        }
      ],
      "source": [
        "non_norm_history = model.fit(train_data_norm, train_labels, epochs=15, validation_data=(test_data_norm, test_labels))"
      ]
    },
    {
      "cell_type": "code",
      "execution_count": null,
      "metadata": {
        "id": "ZIAZQ2RxXfuU"
      },
      "outputs": [],
      "source": [
        "lrss= 1e-3 * (10**(tf.range(40)/20))"
      ]
    },
    {
      "cell_type": "code",
      "execution_count": null,
      "metadata": {
        "id": "2QgWg3mbXjVZ"
      },
      "outputs": [],
      "source": [
        "Y_probs = model.predict(test_data_norm)\n"
      ]
    },
    {
      "cell_type": "code",
      "execution_count": null,
      "metadata": {
        "id": "HbU-UFcKammC"
      },
      "outputs": [],
      "source": [
        "from sklearn.metrics import confusion_matrix\n"
      ]
    },
    {
      "cell_type": "code",
      "source": [
        "Y_preds = Y_probs.argmax(axis=1)"
      ],
      "metadata": {
        "id": "dt_zZzwACkyC"
      },
      "execution_count": null,
      "outputs": []
    },
    {
      "cell_type": "code",
      "source": [
        "Y_preds"
      ],
      "metadata": {
        "colab": {
          "base_uri": "https://localhost:8080/"
        },
        "id": "v4i27yBVDKcU",
        "outputId": "e1e0149d-5966-4876-c0e5-221b0f795e6e"
      },
      "execution_count": null,
      "outputs": [
        {
          "output_type": "execute_result",
          "data": {
            "text/plain": [
              "array([9, 2, 1, ..., 8, 1, 5])"
            ]
          },
          "metadata": {},
          "execution_count": 14
        }
      ]
    },
    {
      "cell_type": "code",
      "source": [
        "confusion_matrix(Y_preds, test_labels)"
      ],
      "metadata": {
        "id": "maW3jbBHDL5H",
        "colab": {
          "base_uri": "https://localhost:8080/"
        },
        "outputId": "b540b6f7-877e-4b25-91da-d13521617ce4"
      },
      "execution_count": null,
      "outputs": [
        {
          "output_type": "execute_result",
          "data": {
            "text/plain": [
              "array([[875,   7,  18,  29,   2,   0, 137,   0,   4,   0],\n",
              "       [  2, 974,   3,  17,   3,   0,   1,   0,   0,   0],\n",
              "       [ 11,   1, 834,   8, 126,   0,  77,   0,   4,   0],\n",
              "       [ 18,  13,  10, 915,  71,   1,  30,   0,   4,   0],\n",
              "       [  0,   2,  62,   8, 734,   0,  49,   0,   1,   0],\n",
              "       [  2,   0,   0,   0,   1, 948,   0,   8,   3,   4],\n",
              "       [ 85,   3,  72,  18,  59,   0, 698,   0,   7,   1],\n",
              "       [  0,   0,   0,   0,   0,  26,   0, 977,   4,  55],\n",
              "       [  7,   0,   1,   5,   4,   0,   8,   0, 971,   0],\n",
              "       [  0,   0,   0,   0,   0,  25,   0,  15,   2, 940]])"
            ]
          },
          "metadata": {},
          "execution_count": 15
        }
      ]
    },
    {
      "cell_type": "code",
      "source": [
        "import random"
      ],
      "metadata": {
        "id": "T3n5Kd5hnJhf"
      },
      "execution_count": null,
      "outputs": []
    },
    {
      "cell_type": "code",
      "source": [
        "plt.imshow(test_data_norm[random.randint(0, len(test_data_norm))], cmap=plt.cm.binary)"
      ],
      "metadata": {
        "colab": {
          "base_uri": "https://localhost:8080/",
          "height": 283
        },
        "id": "Kz6ZrwGvnKtt",
        "outputId": "09330714-ffca-435d-84a5-2f30f11da010"
      },
      "execution_count": null,
      "outputs": [
        {
          "output_type": "execute_result",
          "data": {
            "text/plain": [
              "<matplotlib.image.AxesImage at 0x7f82fdda5a50>"
            ]
          },
          "metadata": {},
          "execution_count": 30
        },
        {
          "output_type": "display_data",
          "data": {
            "text/plain": [
              "<Figure size 432x288 with 1 Axes>"
            ],
            "image/png": "[encoded data removed]"
          },
          "metadata": {
            "needs_background": "light"
          }
        }
      ]
    },
    {
      "cell_type": "code",
      "source": [
        "weights, biases =model.layers[1].get_weights()"
      ],
      "metadata": {
        "id": "nCEpGScwoM1a"
      },
      "execution_count": null,
      "outputs": []
    },
    {
      "cell_type": "code",
      "source": [
        "biases"
      ],
      "metadata": {
        "colab": {
          "base_uri": "https://localhost:8080/"
        },
        "id": "_9R29jTfpWKO",
        "outputId": "baddf0e0-35f3-4811-d738-91db8486da15"
      },
      "execution_count": null,
      "outputs": [
        {
          "output_type": "execute_result",
          "data": {
            "text/plain": [
              "array([ 0.059956  ,  0.03853936, -0.02128455, -0.1276344 ,  0.13832064,\n",
              "        0.48016667, -0.21346046, -0.14643767,  0.00738955,  0.22916664,\n",
              "       -0.0228138 , -0.12307552,  0.31631127, -0.10036902, -0.35427806,\n",
              "        0.00147322,  0.2142458 , -0.00260575, -0.05238962,  0.14793874,\n",
              "       -0.10454243,  0.28095534, -0.17808563, -0.13107704,  0.01708709,\n",
              "        0.00847147,  0.09669359, -0.01717851, -0.18487361,  0.2568229 ,\n",
              "        0.1375667 ,  0.28066102,  0.1959489 , -0.09809482,  0.23279122,\n",
              "       -0.5979761 ,  0.13392645, -0.04087219,  0.09454688,  0.26615646,\n",
              "       -0.00091194,  0.16239402,  0.11657731,  0.06574268,  0.13458619,\n",
              "       -0.04298677, -0.02815663,  0.10742294,  0.44168952, -0.00896546,\n",
              "       -0.00231486,  0.15870762,  0.31413075,  0.00405995,  0.36247167,\n",
              "       -0.81146723, -0.59969974, -0.06229882, -0.32716775,  0.06606991,\n",
              "       -0.06094244,  0.24044158,  0.44616517,  0.04552738,  0.06923653,\n",
              "       -0.00149948, -0.3717664 , -0.3356256 ,  0.2814304 , -0.00531785,\n",
              "       -0.00197825,  0.35534805,  0.04896623,  0.28659844, -0.12150033,\n",
              "       -0.09940708, -0.39742935,  0.03113687,  0.21600932,  0.21444544,\n",
              "        0.2754914 ,  0.00307921, -0.04361892,  0.18827955,  0.16816957,\n",
              "        0.04674228, -0.01739759,  0.18094684,  0.30257106, -0.15748532,\n",
              "       -0.03390556,  0.2213277 ,  0.33908597,  0.00600662, -0.03444032,\n",
              "       -0.0161756 ,  0.37366933,  0.05313133,  0.26596445, -0.04158391],\n",
              "      dtype=float32)"
            ]
          },
          "metadata": {},
          "execution_count": 46
        }
      ]
    },
    {
      "cell_type": "code",
      "source": [
        ""
      ],
      "metadata": {
        "id": "grpT1fLUr8k0"
      },
      "execution_count": null,
      "outputs": []
    }
  ],
  "metadata": {
    "colab": {
      "name": "Multi-class classification",
      "provenance": [],
      "authorship_tag": "ABX9TyNiG7FqtIR1pwApAJ4Wu/K9",
      "include_colab_link": true
    },
    "kernelspec": {
      "display_name": "Python 3",
      "name": "python3"
    },
    "language_info": {
      "name": "python"
    }
  },
  "nbformat": 4,
  "nbformat_minor": 0
}