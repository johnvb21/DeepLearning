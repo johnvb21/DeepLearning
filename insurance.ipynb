{
  "nbformat": 4,
  "nbformat_minor": 0,
  "metadata": {
    "colab": {
      "name": "insurance.ipynb",
      "provenance": [],
      "mount_file_id": "1kunO4_-SpYmV8MMppzwAdYPwZKAI-MSZ",
      "authorship_tag": "ABX9TyMRJ1WeMnXvhTeB3NQ8m0Ws",
      "include_colab_link": true
    },
    "kernelspec": {
      "name": "python3",
      "display_name": "Python 3"
    },
    "language_info": {
      "name": "python"
    }
  },
  "cells": [
    {
      "cell_type": "markdown",
      "metadata": {
        "id": "view-in-github",
        "colab_type": "text"
      },
      "source": [
        "<a href=\"https://colab.research.google.com/github/johnvb21/DeepLearning/blob/main/insurance.ipynb\" target=\"_parent\"><img src=\"https://colab.research.google.com/assets/colab-badge.svg\" alt=\"Open In Colab\"/></a>"
      ]
    },
    {
      "cell_type": "code",
      "execution_count": null,
      "metadata": {
        "id": "4bMisdDd3CrU"
      },
      "outputs": [],
      "source": [
        "import tensorflow as tf\n",
        "import pandas as pd\n",
        "import matplotlib.pyplot as plt\n",
        "import numpy as np\n",
        "import sklearn"
      ]
    },
    {
      "cell_type": "code",
      "source": [
        "insurance = pd.read_csv(\"https://raw.githubusercontent.com/stedy/Machine-Learning-with-R-datasets/master/insurance.csv\")"
      ],
      "metadata": {
        "id": "kUwFQ20T3t3A"
      },
      "execution_count": null,
      "outputs": []
    },
    {
      "cell_type": "code",
      "source": [
        "from sklearn.model_selection import train_test_split\n",
        "from sklearn.compose import make_column_transformer\n",
        "from sklearn.preprocessing import MinMaxScaler, OneHotEncoder"
      ],
      "metadata": {
        "id": "hBQHSNrg7tcj"
      },
      "execution_count": null,
      "outputs": []
    },
    {
      "cell_type": "code",
      "source": [
        "ct = make_column_transformer(\n",
        "    (MinMaxScaler(), ['age', 'bmi', 'children']),\n",
        "    (OneHotEncoder(handle_unknown='ignore'), ['sex', 'smoker', 'region'])\n",
        ")"
      ],
      "metadata": {
        "id": "1XNV2AfVJDpu"
      },
      "execution_count": null,
      "outputs": []
    },
    {
      "cell_type": "code",
      "source": [
        "X = insurance.drop('charges', axis=1)\n",
        "Y = insurance[\"charges\"]\n",
        "X"
      ],
      "metadata": {
        "id": "9zJGdbtsJxGq",
        "colab": {
          "base_uri": "https://localhost:8080/",
          "height": 424
        },
        "outputId": "e10d59ec-8873-469e-d019-ad7e14f2eafa"
      },
      "execution_count": null,
      "outputs": [
        {
          "output_type": "execute_result",
          "data": {
            "text/plain": [
              "      age     sex     bmi  children smoker     region\n",
              "0      19  female  27.900         0    yes  southwest\n",
              "1      18    male  33.770         1     no  southeast\n",
              "2      28    male  33.000         3     no  southeast\n",
              "3      33    male  22.705         0     no  northwest\n",
              "4      32    male  28.880         0     no  northwest\n",
              "...   ...     ...     ...       ...    ...        ...\n",
              "1333   50    male  30.970         3     no  northwest\n",
              "1334   18  female  31.920         0     no  northeast\n",
              "1335   18  female  36.850         0     no  southeast\n",
              "1336   21  female  25.800         0     no  southwest\n",
              "1337   61  female  29.070         0    yes  northwest\n",
              "\n",
              "[1338 rows x 6 columns]"
            ],
            "text/html": [
              "\n",
              "  <div id=\"df-9a902e4f-bb00-4a64-a5f1-3dd6c7ef767e\">\n",
              "    <div class=\"colab-df-container\">\n",
              "      <div>\n",
              "<style scoped>\n",
              "    .dataframe tbody tr th:only-of-type {\n",
              "        vertical-align: middle;\n",
              "    }\n",
              "\n",
              "    .dataframe tbody tr th {\n",
              "        vertical-align: top;\n",
              "    }\n",
              "\n",
              "    .dataframe thead th {\n",
              "        text-align: right;\n",
              "    }\n",
              "</style>\n",
              "<table border=\"1\" class=\"dataframe\">\n",
              "  <thead>\n",
              "    <tr style=\"text-align: right;\">\n",
              "      <th></th>\n",
              "      <th>age</th>\n",
              "      <th>sex</th>\n",
              "      <th>bmi</th>\n",
              "      <th>children</th>\n",
              "      <th>smoker</th>\n",
              "      <th>region</th>\n",
              "    </tr>\n",
              "  </thead>\n",
              "  <tbody>\n",
              "    <tr>\n",
              "      <th>0</th>\n",
              "      <td>19</td>\n",
              "      <td>female</td>\n",
              "      <td>27.900</td>\n",
              "      <td>0</td>\n",
              "      <td>yes</td>\n",
              "      <td>southwest</td>\n",
              "    </tr>\n",
              "    <tr>\n",
              "      <th>1</th>\n",
              "      <td>18</td>\n",
              "      <td>male</td>\n",
              "      <td>33.770</td>\n",
              "      <td>1</td>\n",
              "      <td>no</td>\n",
              "      <td>southeast</td>\n",
              "    </tr>\n",
              "    <tr>\n",
              "      <th>2</th>\n",
              "      <td>28</td>\n",
              "      <td>male</td>\n",
              "      <td>33.000</td>\n",
              "      <td>3</td>\n",
              "      <td>no</td>\n",
              "      <td>southeast</td>\n",
              "    </tr>\n",
              "    <tr>\n",
              "      <th>3</th>\n",
              "      <td>33</td>\n",
              "      <td>male</td>\n",
              "      <td>22.705</td>\n",
              "      <td>0</td>\n",
              "      <td>no</td>\n",
              "      <td>northwest</td>\n",
              "    </tr>\n",
              "    <tr>\n",
              "      <th>4</th>\n",
              "      <td>32</td>\n",
              "      <td>male</td>\n",
              "      <td>28.880</td>\n",
              "      <td>0</td>\n",
              "      <td>no</td>\n",
              "      <td>northwest</td>\n",
              "    </tr>\n",
              "    <tr>\n",
              "      <th>...</th>\n",
              "      <td>...</td>\n",
              "      <td>...</td>\n",
              "      <td>...</td>\n",
              "      <td>...</td>\n",
              "      <td>...</td>\n",
              "      <td>...</td>\n",
              "    </tr>\n",
              "    <tr>\n",
              "      <th>1333</th>\n",
              "      <td>50</td>\n",
              "      <td>male</td>\n",
              "      <td>30.970</td>\n",
              "      <td>3</td>\n",
              "      <td>no</td>\n",
              "      <td>northwest</td>\n",
              "    </tr>\n",
              "    <tr>\n",
              "      <th>1334</th>\n",
              "      <td>18</td>\n",
              "      <td>female</td>\n",
              "      <td>31.920</td>\n",
              "      <td>0</td>\n",
              "      <td>no</td>\n",
              "      <td>northeast</td>\n",
              "    </tr>\n",
              "    <tr>\n",
              "      <th>1335</th>\n",
              "      <td>18</td>\n",
              "      <td>female</td>\n",
              "      <td>36.850</td>\n",
              "      <td>0</td>\n",
              "      <td>no</td>\n",
              "      <td>southeast</td>\n",
              "    </tr>\n",
              "    <tr>\n",
              "      <th>1336</th>\n",
              "      <td>21</td>\n",
              "      <td>female</td>\n",
              "      <td>25.800</td>\n",
              "      <td>0</td>\n",
              "      <td>no</td>\n",
              "      <td>southwest</td>\n",
              "    </tr>\n",
              "    <tr>\n",
              "      <th>1337</th>\n",
              "      <td>61</td>\n",
              "      <td>female</td>\n",
              "      <td>29.070</td>\n",
              "      <td>0</td>\n",
              "      <td>yes</td>\n",
              "      <td>northwest</td>\n",
              "    </tr>\n",
              "  </tbody>\n",
              "</table>\n",
              "<p>1338 rows × 6 columns</p>\n",
              "</div>\n",
              "      <button class=\"colab-df-convert\" onclick=\"convertToInteractive('df-9a902e4f-bb00-4a64-a5f1-3dd6c7ef767e')\"\n",
              "              title=\"Convert this dataframe to an interactive table.\"\n",
              "              style=\"display:none;\">\n",
              "        \n",
              "  <svg xmlns=\"http://www.w3.org/2000/svg\" height=\"24px\"viewBox=\"0 0 24 24\"\n",
              "       width=\"24px\">\n",
              "    <path d=\"M0 0h24v24H0V0z\" fill=\"none\"/>\n",
              "    <path d=\"M18.56 5.44l.94 2.06.94-2.06 2.06-.94-2.06-.94-.94-2.06-.94 2.06-2.06.94zm-11 1L8.5 8.5l.94-2.06 2.06-.94-2.06-.94L8.5 2.5l-.94 2.06-2.06.94zm10 10l.94 2.06.94-2.06 2.06-.94-2.06-.94-.94-2.06-.94 2.06-2.06.94z\"/><path d=\"M17.41 7.96l-1.37-1.37c-.4-.4-.92-.59-1.43-.59-.52 0-1.04.2-1.43.59L10.3 9.45l-7.72 7.72c-.78.78-.78 2.05 0 2.83L4 21.41c.39.39.9.59 1.41.59.51 0 1.02-.2 1.41-.59l7.78-7.78 2.81-2.81c.8-.78.8-2.07 0-2.86zM5.41 20L4 18.59l7.72-7.72 1.47 1.35L5.41 20z\"/>\n",
              "  </svg>\n",
              "      </button>\n",
              "      \n",
              "  <style>\n",
              "    .colab-df-container {\n",
              "      display:flex;\n",
              "      flex-wrap:wrap;\n",
              "      gap: 12px;\n",
              "    }\n",
              "\n",
              "    .colab-df-convert {\n",
              "      background-color: #E8F0FE;\n",
              "      border: none;\n",
              "      border-radius: 50%;\n",
              "      cursor: pointer;\n",
              "      display: none;\n",
              "      fill: #1967D2;\n",
              "      height: 32px;\n",
              "      padding: 0 0 0 0;\n",
              "      width: 32px;\n",
              "    }\n",
              "\n",
              "    .colab-df-convert:hover {\n",
              "      background-color: #E2EBFA;\n",
              "      box-shadow: 0px 1px 2px rgba(60, 64, 67, 0.3), 0px 1px 3px 1px rgba(60, 64, 67, 0.15);\n",
              "      fill: #174EA6;\n",
              "    }\n",
              "\n",
              "    [theme=dark] .colab-df-convert {\n",
              "      background-color: #3B4455;\n",
              "      fill: #D2E3FC;\n",
              "    }\n",
              "\n",
              "    [theme=dark] .colab-df-convert:hover {\n",
              "      background-color: #434B5C;\n",
              "      box-shadow: 0px 1px 3px 1px rgba(0, 0, 0, 0.15);\n",
              "      filter: drop-shadow(0px 1px 2px rgba(0, 0, 0, 0.3));\n",
              "      fill: #FFFFFF;\n",
              "    }\n",
              "  </style>\n",
              "\n",
              "      <script>\n",
              "        const buttonEl =\n",
              "          document.querySelector('#df-9a902e4f-bb00-4a64-a5f1-3dd6c7ef767e button.colab-df-convert');\n",
              "        buttonEl.style.display =\n",
              "          google.colab.kernel.accessAllowed ? 'block' : 'none';\n",
              "\n",
              "        async function convertToInteractive(key) {\n",
              "          const element = document.querySelector('#df-9a902e4f-bb00-4a64-a5f1-3dd6c7ef767e');\n",
              "          const dataTable =\n",
              "            await google.colab.kernel.invokeFunction('convertToInteractive',\n",
              "                                                     [key], {});\n",
              "          if (!dataTable) return;\n",
              "\n",
              "          const docLinkHtml = 'Like what you see? Visit the ' +\n",
              "            '<a target=\"_blank\" href=https://colab.research.google.com/notebooks/data_table.ipynb>data table notebook</a>'\n",
              "            + ' to learn more about interactive tables.';\n",
              "          element.innerHTML = '';\n",
              "          dataTable['output_type'] = 'display_data';\n",
              "          await google.colab.output.renderOutput(dataTable, element);\n",
              "          const docLink = document.createElement('div');\n",
              "          docLink.innerHTML = docLinkHtml;\n",
              "          element.appendChild(docLink);\n",
              "        }\n",
              "      </script>\n",
              "    </div>\n",
              "  </div>\n",
              "  "
            ]
          },
          "metadata": {},
          "execution_count": 22
        }
      ]
    },
    {
      "cell_type": "code",
      "source": [
        "X_train, X_test, Y_train, Y_test = train_test_split(X,Y, test_size=0.2, random_state=42)"
      ],
      "metadata": {
        "id": "MLG2afK4KIV2"
      },
      "execution_count": null,
      "outputs": []
    },
    {
      "cell_type": "code",
      "source": [
        "ct.fit(X_train)"
      ],
      "metadata": {
        "colab": {
          "base_uri": "https://localhost:8080/"
        },
        "id": "uagHmknEKZ9n",
        "outputId": "0da300b7-1cbc-4970-89a8-d0e260e11a97"
      },
      "execution_count": null,
      "outputs": [
        {
          "output_type": "execute_result",
          "data": {
            "text/plain": [
              "ColumnTransformer(transformers=[('minmaxscaler', MinMaxScaler(),\n",
              "                                 ['age', 'bmi', 'children']),\n",
              "                                ('onehotencoder',\n",
              "                                 OneHotEncoder(handle_unknown='ignore'),\n",
              "                                 ['sex', 'smoker', 'region'])])"
            ]
          },
          "metadata": {},
          "execution_count": 8
        }
      ]
    },
    {
      "cell_type": "code",
      "source": [
        "X_train_normal = ct.transform(X_train)\n",
        "X_test_normal = ct.transform(X_test)\n",
        "X_train_normal"
      ],
      "metadata": {
        "id": "lTFwaTV7Ku3I",
        "colab": {
          "base_uri": "https://localhost:8080/"
        },
        "outputId": "4bf1a38d-d877-4f2d-d2ff-4ec936c10caa"
      },
      "execution_count": null,
      "outputs": [
        {
          "output_type": "execute_result",
          "data": {
            "text/plain": [
              "array([[0.60869565, 0.10734463, 0.4       , ..., 1.        , 0.        ,\n",
              "        0.        ],\n",
              "       [0.63043478, 0.22491256, 0.        , ..., 0.        , 0.        ,\n",
              "        0.        ],\n",
              "       [0.73913043, 0.23944041, 0.        , ..., 0.        , 1.        ,\n",
              "        0.        ],\n",
              "       ...,\n",
              "       [0.86956522, 0.24791499, 0.        , ..., 0.        , 0.        ,\n",
              "        0.        ],\n",
              "       [0.41304348, 0.85122411, 0.4       , ..., 0.        , 0.        ,\n",
              "        1.        ],\n",
              "       [0.80434783, 0.37503363, 0.        , ..., 0.        , 0.        ,\n",
              "        1.        ]])"
            ]
          },
          "metadata": {},
          "execution_count": 24
        }
      ]
    },
    {
      "cell_type": "code",
      "source": [
        "tf.random.set_seed(42)"
      ],
      "metadata": {
        "id": "BM7s2wmJLKez"
      },
      "execution_count": null,
      "outputs": []
    },
    {
      "cell_type": "code",
      "source": [
        "model = tf.keras.Sequential([\n",
        " tf.keras.layers.Dense(100, input_shape=[11]),\n",
        " tf.keras.layers.Dense(10),\n",
        " tf.keras.layers.Dense(5), \n",
        " tf.keras.layers.Dense(1)                            \n",
        "])"
      ],
      "metadata": {
        "id": "qec5D8zxMJJc"
      },
      "execution_count": null,
      "outputs": []
    },
    {
      "cell_type": "code",
      "source": [
        "model.compile(loss=tf.keras.losses.mae,\n",
        "              optimizer=tf.keras.optimizers.Adam(lr=0.001),\n",
        "              metrics=[\"mae\"])"
      ],
      "metadata": {
        "colab": {
          "base_uri": "https://localhost:8080/"
        },
        "id": "VogYfXo0Mcao",
        "outputId": "b023f9cb-e80b-42b1-86a5-10a7ef8513b0"
      },
      "execution_count": null,
      "outputs": [
        {
          "output_type": "stream",
          "name": "stderr",
          "text": [
            "/usr/local/lib/python3.7/dist-packages/keras/optimizer_v2/adam.py:105: UserWarning: The `lr` argument is deprecated, use `learning_rate` instead.\n",
            "  super(Adam, self).__init__(name, **kwargs)\n"
          ]
        }
      ]
    },
    {
      "cell_type": "code",
      "source": [
        "model.fit(X_train_normal, Y_train, epochs=200)"
      ],
      "metadata": {
        "colab": {
          "base_uri": "https://localhost:8080/"
        },
        "id": "X-bgV_S9Mmep",
        "outputId": "28e98f97-4727-4538-f3fe-16552aaf1c4b"
      },
      "execution_count": null,
      "outputs": [
        {
          "output_type": "stream",
          "name": "stdout",
          "text": [
            "Epoch 1/200\n",
            "34/34 [==============================] - 2s 5ms/step - loss: 13344.9980 - mae: 13344.9980\n",
            "Epoch 2/200\n",
            "34/34 [==============================] - 0s 7ms/step - loss: 13338.8926 - mae: 13338.8926\n",
            "Epoch 3/200\n",
            "34/34 [==============================] - 0s 6ms/step - loss: 13315.4805 - mae: 13315.4805\n",
            "Epoch 4/200\n",
            "34/34 [==============================] - 0s 5ms/step - loss: 13242.6367 - mae: 13242.6367\n",
            "Epoch 5/200\n",
            "34/34 [==============================] - 0s 6ms/step - loss: 13063.9229 - mae: 13063.9229\n",
            "Epoch 6/200\n",
            "34/34 [==============================] - 0s 6ms/step - loss: 12696.6035 - mae: 12696.6035\n",
            "Epoch 7/200\n",
            "34/34 [==============================] - 0s 6ms/step - loss: 12035.5264 - mae: 12035.5264\n",
            "Epoch 8/200\n",
            "34/34 [==============================] - 0s 6ms/step - loss: 11041.0479 - mae: 11041.0479\n",
            "Epoch 9/200\n",
            "34/34 [==============================] - 0s 5ms/step - loss: 9909.0566 - mae: 9909.0566\n",
            "Epoch 10/200\n",
            "34/34 [==============================] - 0s 7ms/step - loss: 8878.6738 - mae: 8878.6738\n",
            "Epoch 11/200\n",
            "34/34 [==============================] - 0s 7ms/step - loss: 8248.4980 - mae: 8248.4980\n",
            "Epoch 12/200\n",
            "34/34 [==============================] - 0s 6ms/step - loss: 7966.7710 - mae: 7966.7710\n",
            "Epoch 13/200\n",
            "34/34 [==============================] - 0s 6ms/step - loss: 7858.4478 - mae: 7858.4478\n",
            "Epoch 14/200\n",
            "34/34 [==============================] - 0s 8ms/step - loss: 7773.2227 - mae: 7773.2227\n",
            "Epoch 15/200\n",
            "34/34 [==============================] - 0s 5ms/step - loss: 7696.0439 - mae: 7696.0439\n",
            "Epoch 16/200\n",
            "34/34 [==============================] - 0s 9ms/step - loss: 7619.4565 - mae: 7619.4565\n",
            "Epoch 17/200\n",
            "34/34 [==============================] - 0s 8ms/step - loss: 7539.4346 - mae: 7539.4346\n",
            "Epoch 18/200\n",
            "34/34 [==============================] - 0s 7ms/step - loss: 7459.0991 - mae: 7459.0991\n",
            "Epoch 19/200\n",
            "34/34 [==============================] - 0s 7ms/step - loss: 7375.2271 - mae: 7375.2271\n",
            "Epoch 20/200\n",
            "34/34 [==============================] - 0s 9ms/step - loss: 7287.1436 - mae: 7287.1436\n",
            "Epoch 21/200\n",
            "34/34 [==============================] - 0s 10ms/step - loss: 7197.5762 - mae: 7197.5762\n",
            "Epoch 22/200\n",
            "34/34 [==============================] - 0s 9ms/step - loss: 7097.3428 - mae: 7097.3428\n",
            "Epoch 23/200\n",
            "34/34 [==============================] - 0s 8ms/step - loss: 6991.7925 - mae: 6991.7925\n",
            "Epoch 24/200\n",
            "34/34 [==============================] - 0s 11ms/step - loss: 6882.1387 - mae: 6882.1387\n",
            "Epoch 25/200\n",
            "34/34 [==============================] - 0s 8ms/step - loss: 6776.9663 - mae: 6776.9663\n",
            "Epoch 26/200\n",
            "34/34 [==============================] - 0s 10ms/step - loss: 6625.6050 - mae: 6625.6050\n",
            "Epoch 27/200\n",
            "34/34 [==============================] - 0s 7ms/step - loss: 6483.3169 - mae: 6483.3169\n",
            "Epoch 28/200\n",
            "34/34 [==============================] - 0s 5ms/step - loss: 6324.2603 - mae: 6324.2603\n",
            "Epoch 29/200\n",
            "34/34 [==============================] - 0s 6ms/step - loss: 6149.6279 - mae: 6149.6279\n",
            "Epoch 30/200\n",
            "34/34 [==============================] - 0s 4ms/step - loss: 5955.3457 - mae: 5955.3457\n",
            "Epoch 31/200\n",
            "34/34 [==============================] - 0s 5ms/step - loss: 5740.5869 - mae: 5740.5869\n",
            "Epoch 32/200\n",
            "34/34 [==============================] - 0s 8ms/step - loss: 5508.7852 - mae: 5508.7852\n",
            "Epoch 33/200\n",
            "34/34 [==============================] - 0s 9ms/step - loss: 5261.7427 - mae: 5261.7427\n",
            "Epoch 34/200\n",
            "34/34 [==============================] - 0s 8ms/step - loss: 4992.9751 - mae: 4992.9751\n",
            "Epoch 35/200\n",
            "34/34 [==============================] - 0s 8ms/step - loss: 4720.0991 - mae: 4720.0991\n",
            "Epoch 36/200\n",
            "34/34 [==============================] - 0s 4ms/step - loss: 4465.2393 - mae: 4465.2393\n",
            "Epoch 37/200\n",
            "34/34 [==============================] - 0s 4ms/step - loss: 4234.8345 - mae: 4234.8345\n",
            "Epoch 38/200\n",
            "34/34 [==============================] - 0s 5ms/step - loss: 4029.8486 - mae: 4029.8486\n",
            "Epoch 39/200\n",
            "34/34 [==============================] - 0s 5ms/step - loss: 3863.5471 - mae: 3863.5471\n",
            "Epoch 40/200\n",
            "34/34 [==============================] - 0s 7ms/step - loss: 3753.5635 - mae: 3753.5635\n",
            "Epoch 41/200\n",
            "34/34 [==============================] - 0s 6ms/step - loss: 3697.2808 - mae: 3697.2808\n",
            "Epoch 42/200\n",
            "34/34 [==============================] - 0s 4ms/step - loss: 3678.9849 - mae: 3678.9849\n",
            "Epoch 43/200\n",
            "34/34 [==============================] - 0s 5ms/step - loss: 3663.9424 - mae: 3663.9424\n",
            "Epoch 44/200\n",
            "34/34 [==============================] - 0s 7ms/step - loss: 3652.5505 - mae: 3652.5505\n",
            "Epoch 45/200\n",
            "34/34 [==============================] - 0s 8ms/step - loss: 3644.9707 - mae: 3644.9707\n",
            "Epoch 46/200\n",
            "34/34 [==============================] - 0s 8ms/step - loss: 3644.1794 - mae: 3644.1794\n",
            "Epoch 47/200\n",
            "34/34 [==============================] - 0s 5ms/step - loss: 3641.5876 - mae: 3641.5876\n",
            "Epoch 48/200\n",
            "34/34 [==============================] - 0s 7ms/step - loss: 3635.4309 - mae: 3635.4309\n",
            "Epoch 49/200\n",
            "34/34 [==============================] - 0s 4ms/step - loss: 3634.2358 - mae: 3634.2358\n",
            "Epoch 50/200\n",
            "34/34 [==============================] - 0s 4ms/step - loss: 3625.7410 - mae: 3625.7410\n",
            "Epoch 51/200\n",
            "34/34 [==============================] - 0s 8ms/step - loss: 3630.9307 - mae: 3630.9307\n",
            "Epoch 52/200\n",
            "34/34 [==============================] - 0s 11ms/step - loss: 3627.7180 - mae: 3627.7180\n",
            "Epoch 53/200\n",
            "34/34 [==============================] - 0s 7ms/step - loss: 3617.6973 - mae: 3617.6973\n",
            "Epoch 54/200\n",
            "34/34 [==============================] - 0s 8ms/step - loss: 3618.9653 - mae: 3618.9653\n",
            "Epoch 55/200\n",
            "34/34 [==============================] - 0s 8ms/step - loss: 3618.9502 - mae: 3618.9502\n",
            "Epoch 56/200\n",
            "34/34 [==============================] - 0s 7ms/step - loss: 3605.8982 - mae: 3605.8982\n",
            "Epoch 57/200\n",
            "34/34 [==============================] - 0s 7ms/step - loss: 3602.6438 - mae: 3602.6438\n",
            "Epoch 58/200\n",
            "34/34 [==============================] - 0s 5ms/step - loss: 3597.7732 - mae: 3597.7732\n",
            "Epoch 59/200\n",
            "34/34 [==============================] - 0s 7ms/step - loss: 3595.7998 - mae: 3595.7998\n",
            "Epoch 60/200\n",
            "34/34 [==============================] - 0s 5ms/step - loss: 3590.4373 - mae: 3590.4373\n",
            "Epoch 61/200\n",
            "34/34 [==============================] - 0s 5ms/step - loss: 3586.9246 - mae: 3586.9246\n",
            "Epoch 62/200\n",
            "34/34 [==============================] - 0s 6ms/step - loss: 3581.8147 - mae: 3581.8147\n",
            "Epoch 63/200\n",
            "34/34 [==============================] - 0s 7ms/step - loss: 3576.4648 - mae: 3576.4648\n",
            "Epoch 64/200\n",
            "34/34 [==============================] - 0s 8ms/step - loss: 3573.7844 - mae: 3573.7844\n",
            "Epoch 65/200\n",
            "34/34 [==============================] - 0s 10ms/step - loss: 3572.8025 - mae: 3572.8025\n",
            "Epoch 66/200\n",
            "34/34 [==============================] - 0s 6ms/step - loss: 3565.1970 - mae: 3565.1970\n",
            "Epoch 67/200\n",
            "34/34 [==============================] - 0s 8ms/step - loss: 3562.2839 - mae: 3562.2839\n",
            "Epoch 68/200\n",
            "34/34 [==============================] - 0s 5ms/step - loss: 3562.8376 - mae: 3562.8376\n",
            "Epoch 69/200\n",
            "34/34 [==============================] - 0s 4ms/step - loss: 3555.5972 - mae: 3555.5972\n",
            "Epoch 70/200\n",
            "34/34 [==============================] - 0s 5ms/step - loss: 3556.1167 - mae: 3556.1167\n",
            "Epoch 71/200\n",
            "34/34 [==============================] - 0s 7ms/step - loss: 3553.1709 - mae: 3553.1709\n",
            "Epoch 72/200\n",
            "34/34 [==============================] - 0s 4ms/step - loss: 3546.0051 - mae: 3546.0051\n",
            "Epoch 73/200\n",
            "34/34 [==============================] - 0s 6ms/step - loss: 3542.8376 - mae: 3542.8376\n",
            "Epoch 74/200\n",
            "34/34 [==============================] - 0s 8ms/step - loss: 3537.3245 - mae: 3537.3245\n",
            "Epoch 75/200\n",
            "34/34 [==============================] - 0s 8ms/step - loss: 3536.4910 - mae: 3536.4910\n",
            "Epoch 76/200\n",
            "34/34 [==============================] - 0s 9ms/step - loss: 3537.5679 - mae: 3537.5679\n",
            "Epoch 77/200\n",
            "34/34 [==============================] - 0s 7ms/step - loss: 3526.9185 - mae: 3526.9185\n",
            "Epoch 78/200\n",
            "34/34 [==============================] - 0s 7ms/step - loss: 3524.8193 - mae: 3524.8193\n",
            "Epoch 79/200\n",
            "34/34 [==============================] - 0s 8ms/step - loss: 3526.9309 - mae: 3526.9309\n",
            "Epoch 80/200\n",
            "34/34 [==============================] - 0s 8ms/step - loss: 3522.7549 - mae: 3522.7549\n",
            "Epoch 81/200\n",
            "34/34 [==============================] - 0s 5ms/step - loss: 3519.6777 - mae: 3519.6777\n",
            "Epoch 82/200\n",
            "34/34 [==============================] - 0s 8ms/step - loss: 3517.3535 - mae: 3517.3535\n",
            "Epoch 83/200\n",
            "34/34 [==============================] - 0s 6ms/step - loss: 3514.7256 - mae: 3514.7256\n",
            "Epoch 84/200\n",
            "34/34 [==============================] - 0s 8ms/step - loss: 3509.5166 - mae: 3509.5166\n",
            "Epoch 85/200\n",
            "34/34 [==============================] - 0s 8ms/step - loss: 3506.0879 - mae: 3506.0879\n",
            "Epoch 86/200\n",
            "34/34 [==============================] - 0s 6ms/step - loss: 3502.6548 - mae: 3502.6548\n",
            "Epoch 87/200\n",
            "34/34 [==============================] - 0s 9ms/step - loss: 3502.7202 - mae: 3502.7202\n",
            "Epoch 88/200\n",
            "34/34 [==============================] - 0s 10ms/step - loss: 3498.4644 - mae: 3498.4644\n",
            "Epoch 89/200\n",
            "34/34 [==============================] - 0s 5ms/step - loss: 3499.4199 - mae: 3499.4199\n",
            "Epoch 90/200\n",
            "34/34 [==============================] - 0s 10ms/step - loss: 3492.8364 - mae: 3492.8364\n",
            "Epoch 91/200\n",
            "34/34 [==============================] - 0s 9ms/step - loss: 3486.3677 - mae: 3486.3677\n",
            "Epoch 92/200\n",
            "34/34 [==============================] - 0s 9ms/step - loss: 3488.9995 - mae: 3488.9995\n",
            "Epoch 93/200\n",
            "34/34 [==============================] - 0s 10ms/step - loss: 3482.3784 - mae: 3482.3784\n",
            "Epoch 94/200\n",
            "34/34 [==============================] - 0s 8ms/step - loss: 3479.9839 - mae: 3479.9839\n",
            "Epoch 95/200\n",
            "34/34 [==============================] - 0s 9ms/step - loss: 3478.6931 - mae: 3478.6931\n",
            "Epoch 96/200\n",
            "34/34 [==============================] - 0s 9ms/step - loss: 3482.9934 - mae: 3482.9934\n",
            "Epoch 97/200\n",
            "34/34 [==============================] - 0s 9ms/step - loss: 3481.4854 - mae: 3481.4854\n",
            "Epoch 98/200\n",
            "34/34 [==============================] - 0s 9ms/step - loss: 3475.5288 - mae: 3475.5288\n",
            "Epoch 99/200\n",
            "34/34 [==============================] - 0s 6ms/step - loss: 3478.1377 - mae: 3478.1377\n",
            "Epoch 100/200\n",
            "34/34 [==============================] - 0s 8ms/step - loss: 3480.9197 - mae: 3480.9197\n",
            "Epoch 101/200\n",
            "34/34 [==============================] - 0s 8ms/step - loss: 3476.5151 - mae: 3476.5151\n",
            "Epoch 102/200\n",
            "34/34 [==============================] - 0s 7ms/step - loss: 3475.5767 - mae: 3475.5767\n",
            "Epoch 103/200\n",
            "34/34 [==============================] - 0s 9ms/step - loss: 3474.9651 - mae: 3474.9651\n",
            "Epoch 104/200\n",
            "34/34 [==============================] - 0s 6ms/step - loss: 3474.5188 - mae: 3474.5188\n",
            "Epoch 105/200\n",
            "34/34 [==============================] - 0s 5ms/step - loss: 3478.5952 - mae: 3478.5952\n",
            "Epoch 106/200\n",
            "34/34 [==============================] - 0s 7ms/step - loss: 3474.8105 - mae: 3474.8105\n",
            "Epoch 107/200\n",
            "34/34 [==============================] - 0s 4ms/step - loss: 3478.5571 - mae: 3478.5571\n",
            "Epoch 108/200\n",
            "34/34 [==============================] - 0s 7ms/step - loss: 3475.4385 - mae: 3475.4385\n",
            "Epoch 109/200\n",
            "34/34 [==============================] - 0s 6ms/step - loss: 3479.6118 - mae: 3479.6118\n",
            "Epoch 110/200\n",
            "34/34 [==============================] - 0s 7ms/step - loss: 3473.1218 - mae: 3473.1218\n",
            "Epoch 111/200\n",
            "34/34 [==============================] - 0s 7ms/step - loss: 3483.0029 - mae: 3483.0029\n",
            "Epoch 112/200\n",
            "34/34 [==============================] - 0s 5ms/step - loss: 3477.4204 - mae: 3477.4204\n",
            "Epoch 113/200\n",
            "34/34 [==============================] - 0s 6ms/step - loss: 3479.1765 - mae: 3479.1765\n",
            "Epoch 114/200\n",
            "34/34 [==============================] - 0s 6ms/step - loss: 3481.9331 - mae: 3481.9331\n",
            "Epoch 115/200\n",
            "34/34 [==============================] - 0s 6ms/step - loss: 3475.5378 - mae: 3475.5378\n",
            "Epoch 116/200\n",
            "34/34 [==============================] - 0s 6ms/step - loss: 3477.7979 - mae: 3477.7979\n",
            "Epoch 117/200\n",
            "34/34 [==============================] - 0s 6ms/step - loss: 3478.9434 - mae: 3478.9434\n",
            "Epoch 118/200\n",
            "34/34 [==============================] - 0s 8ms/step - loss: 3474.1487 - mae: 3474.1487\n",
            "Epoch 119/200\n",
            "34/34 [==============================] - 0s 6ms/step - loss: 3479.4646 - mae: 3479.4646\n",
            "Epoch 120/200\n",
            "34/34 [==============================] - 0s 8ms/step - loss: 3473.1028 - mae: 3473.1028\n",
            "Epoch 121/200\n",
            "34/34 [==============================] - 0s 9ms/step - loss: 3477.9614 - mae: 3477.9614\n",
            "Epoch 122/200\n",
            "34/34 [==============================] - 0s 8ms/step - loss: 3475.5190 - mae: 3475.5190\n",
            "Epoch 123/200\n",
            "34/34 [==============================] - 0s 8ms/step - loss: 3475.1025 - mae: 3475.1025\n",
            "Epoch 124/200\n",
            "34/34 [==============================] - 0s 6ms/step - loss: 3473.6831 - mae: 3473.6831\n",
            "Epoch 125/200\n",
            "34/34 [==============================] - 0s 4ms/step - loss: 3474.6853 - mae: 3474.6853\n",
            "Epoch 126/200\n",
            "34/34 [==============================] - 0s 5ms/step - loss: 3474.2070 - mae: 3474.2070\n",
            "Epoch 127/200\n",
            "34/34 [==============================] - 0s 3ms/step - loss: 3477.5815 - mae: 3477.5815\n",
            "Epoch 128/200\n",
            "34/34 [==============================] - 0s 3ms/step - loss: 3478.4260 - mae: 3478.4260\n",
            "Epoch 129/200\n",
            "34/34 [==============================] - 0s 3ms/step - loss: 3479.5288 - mae: 3479.5288\n",
            "Epoch 130/200\n",
            "34/34 [==============================] - 0s 3ms/step - loss: 3474.7595 - mae: 3474.7595\n",
            "Epoch 131/200\n",
            "34/34 [==============================] - 0s 3ms/step - loss: 3475.4409 - mae: 3475.4409\n",
            "Epoch 132/200\n",
            "34/34 [==============================] - 0s 5ms/step - loss: 3473.7908 - mae: 3473.7908\n",
            "Epoch 133/200\n",
            "34/34 [==============================] - 0s 6ms/step - loss: 3473.7991 - mae: 3473.7991\n",
            "Epoch 134/200\n",
            "34/34 [==============================] - 0s 4ms/step - loss: 3474.7620 - mae: 3474.7620\n",
            "Epoch 135/200\n",
            "34/34 [==============================] - 0s 4ms/step - loss: 3474.8467 - mae: 3474.8467\n",
            "Epoch 136/200\n",
            "34/34 [==============================] - 0s 3ms/step - loss: 3472.9902 - mae: 3472.9902\n",
            "Epoch 137/200\n",
            "34/34 [==============================] - 0s 2ms/step - loss: 3475.5339 - mae: 3475.5339\n",
            "Epoch 138/200\n",
            "34/34 [==============================] - 0s 2ms/step - loss: 3476.1790 - mae: 3476.1790\n",
            "Epoch 139/200\n",
            "34/34 [==============================] - 0s 2ms/step - loss: 3475.8220 - mae: 3475.8220\n",
            "Epoch 140/200\n",
            "34/34 [==============================] - 0s 2ms/step - loss: 3474.1636 - mae: 3474.1636\n",
            "Epoch 141/200\n",
            "34/34 [==============================] - 0s 2ms/step - loss: 3480.6655 - mae: 3480.6655\n",
            "Epoch 142/200\n",
            "34/34 [==============================] - 0s 2ms/step - loss: 3479.5906 - mae: 3479.5906\n",
            "Epoch 143/200\n",
            "34/34 [==============================] - 0s 2ms/step - loss: 3474.4814 - mae: 3474.4814\n",
            "Epoch 144/200\n",
            "34/34 [==============================] - 0s 2ms/step - loss: 3477.3723 - mae: 3477.3723\n",
            "Epoch 145/200\n",
            "34/34 [==============================] - 0s 2ms/step - loss: 3475.5498 - mae: 3475.5498\n",
            "Epoch 146/200\n",
            "34/34 [==============================] - 0s 2ms/step - loss: 3480.6924 - mae: 3480.6924\n",
            "Epoch 147/200\n",
            "34/34 [==============================] - 0s 2ms/step - loss: 3475.2065 - mae: 3475.2065\n",
            "Epoch 148/200\n",
            "34/34 [==============================] - 0s 2ms/step - loss: 3479.0310 - mae: 3479.0310\n",
            "Epoch 149/200\n",
            "34/34 [==============================] - 0s 2ms/step - loss: 3473.3210 - mae: 3473.3210\n",
            "Epoch 150/200\n",
            "34/34 [==============================] - 0s 2ms/step - loss: 3475.8853 - mae: 3475.8853\n",
            "Epoch 151/200\n",
            "34/34 [==============================] - 0s 2ms/step - loss: 3476.3950 - mae: 3476.3950\n",
            "Epoch 152/200\n",
            "34/34 [==============================] - 0s 2ms/step - loss: 3478.5950 - mae: 3478.5950\n",
            "Epoch 153/200\n",
            "34/34 [==============================] - 0s 2ms/step - loss: 3473.2495 - mae: 3473.2495\n",
            "Epoch 154/200\n",
            "34/34 [==============================] - 0s 2ms/step - loss: 3475.5081 - mae: 3475.5081\n",
            "Epoch 155/200\n",
            "34/34 [==============================] - 0s 2ms/step - loss: 3475.0059 - mae: 3475.0059\n",
            "Epoch 156/200\n",
            "34/34 [==============================] - 0s 2ms/step - loss: 3480.6982 - mae: 3480.6982\n",
            "Epoch 157/200\n",
            "34/34 [==============================] - 0s 2ms/step - loss: 3478.0957 - mae: 3478.0957\n",
            "Epoch 158/200\n",
            "34/34 [==============================] - 0s 2ms/step - loss: 3474.1682 - mae: 3474.1682\n",
            "Epoch 159/200\n",
            "34/34 [==============================] - 0s 2ms/step - loss: 3473.1951 - mae: 3473.1951\n",
            "Epoch 160/200\n",
            "34/34 [==============================] - 0s 2ms/step - loss: 3476.6357 - mae: 3476.6357\n",
            "Epoch 161/200\n",
            "34/34 [==============================] - 0s 2ms/step - loss: 3475.2500 - mae: 3475.2500\n",
            "Epoch 162/200\n",
            "34/34 [==============================] - 0s 2ms/step - loss: 3474.6750 - mae: 3474.6750\n",
            "Epoch 163/200\n",
            "34/34 [==============================] - 0s 2ms/step - loss: 3474.6704 - mae: 3474.6704\n",
            "Epoch 164/200\n",
            "34/34 [==============================] - 0s 2ms/step - loss: 3478.7229 - mae: 3478.7229\n",
            "Epoch 165/200\n",
            "34/34 [==============================] - 0s 2ms/step - loss: 3473.8777 - mae: 3473.8777\n",
            "Epoch 166/200\n",
            "34/34 [==============================] - 0s 2ms/step - loss: 3475.6499 - mae: 3475.6499\n",
            "Epoch 167/200\n",
            "34/34 [==============================] - 0s 2ms/step - loss: 3475.5244 - mae: 3475.5244\n",
            "Epoch 168/200\n",
            "34/34 [==============================] - 0s 2ms/step - loss: 3474.6243 - mae: 3474.6243\n",
            "Epoch 169/200\n",
            "34/34 [==============================] - 0s 2ms/step - loss: 3472.6875 - mae: 3472.6875\n",
            "Epoch 170/200\n",
            "34/34 [==============================] - 0s 2ms/step - loss: 3476.7463 - mae: 3476.7463\n",
            "Epoch 171/200\n",
            "34/34 [==============================] - 0s 2ms/step - loss: 3474.0537 - mae: 3474.0537\n",
            "Epoch 172/200\n",
            "34/34 [==============================] - 0s 2ms/step - loss: 3474.9700 - mae: 3474.9700\n",
            "Epoch 173/200\n",
            "34/34 [==============================] - 0s 2ms/step - loss: 3474.5564 - mae: 3474.5564\n",
            "Epoch 174/200\n",
            "34/34 [==============================] - 0s 2ms/step - loss: 3475.4761 - mae: 3475.4761\n",
            "Epoch 175/200\n",
            "34/34 [==============================] - 0s 2ms/step - loss: 3474.9919 - mae: 3474.9919\n",
            "Epoch 176/200\n",
            "34/34 [==============================] - 0s 2ms/step - loss: 3479.7661 - mae: 3479.7661\n",
            "Epoch 177/200\n",
            "34/34 [==============================] - 0s 2ms/step - loss: 3479.9133 - mae: 3479.9133\n",
            "Epoch 178/200\n",
            "34/34 [==============================] - 0s 2ms/step - loss: 3476.4702 - mae: 3476.4702\n",
            "Epoch 179/200\n",
            "34/34 [==============================] - 0s 2ms/step - loss: 3485.4636 - mae: 3485.4636\n",
            "Epoch 180/200\n",
            "34/34 [==============================] - 0s 2ms/step - loss: 3475.4382 - mae: 3475.4382\n",
            "Epoch 181/200\n",
            "34/34 [==============================] - 0s 2ms/step - loss: 3475.6189 - mae: 3475.6189\n",
            "Epoch 182/200\n",
            "34/34 [==============================] - 0s 2ms/step - loss: 3475.8674 - mae: 3475.8674\n",
            "Epoch 183/200\n",
            "34/34 [==============================] - 0s 2ms/step - loss: 3474.4202 - mae: 3474.4202\n",
            "Epoch 184/200\n",
            "34/34 [==============================] - 0s 2ms/step - loss: 3476.5129 - mae: 3476.5129\n",
            "Epoch 185/200\n",
            "34/34 [==============================] - 0s 2ms/step - loss: 3476.8020 - mae: 3476.8020\n",
            "Epoch 186/200\n",
            "34/34 [==============================] - 0s 2ms/step - loss: 3474.6858 - mae: 3474.6858\n",
            "Epoch 187/200\n",
            "34/34 [==============================] - 0s 2ms/step - loss: 3476.0283 - mae: 3476.0283\n",
            "Epoch 188/200\n",
            "34/34 [==============================] - 0s 2ms/step - loss: 3473.8901 - mae: 3473.8901\n",
            "Epoch 189/200\n",
            "34/34 [==============================] - 0s 2ms/step - loss: 3473.5408 - mae: 3473.5408\n",
            "Epoch 190/200\n",
            "34/34 [==============================] - 0s 2ms/step - loss: 3476.4150 - mae: 3476.4150\n",
            "Epoch 191/200\n",
            "34/34 [==============================] - 0s 2ms/step - loss: 3492.7642 - mae: 3492.7642\n",
            "Epoch 192/200\n",
            "34/34 [==============================] - 0s 2ms/step - loss: 3476.7112 - mae: 3476.7112\n",
            "Epoch 193/200\n",
            "34/34 [==============================] - 0s 2ms/step - loss: 3476.2053 - mae: 3476.2053\n",
            "Epoch 194/200\n",
            "34/34 [==============================] - 0s 2ms/step - loss: 3475.1304 - mae: 3475.1304\n",
            "Epoch 195/200\n",
            "34/34 [==============================] - 0s 2ms/step - loss: 3472.3428 - mae: 3472.3428\n",
            "Epoch 196/200\n",
            "34/34 [==============================] - 0s 2ms/step - loss: 3479.1238 - mae: 3479.1238\n",
            "Epoch 197/200\n",
            "34/34 [==============================] - 0s 2ms/step - loss: 3475.5415 - mae: 3475.5415\n",
            "Epoch 198/200\n",
            "34/34 [==============================] - 0s 2ms/step - loss: 3478.3271 - mae: 3478.3271\n",
            "Epoch 199/200\n",
            "34/34 [==============================] - 0s 2ms/step - loss: 3474.0349 - mae: 3474.0349\n",
            "Epoch 200/200\n",
            "34/34 [==============================] - 0s 2ms/step - loss: 3476.6680 - mae: 3476.6680\n"
          ]
        },
        {
          "output_type": "execute_result",
          "data": {
            "text/plain": [
              "<keras.callbacks.History at 0x7f4478d3fa50>"
            ]
          },
          "metadata": {},
          "execution_count": 13
        }
      ]
    },
    {
      "cell_type": "code",
      "source": [
        "model.evaluate(X_test_normal, Y_test)"
      ],
      "metadata": {
        "colab": {
          "base_uri": "https://localhost:8080/"
        },
        "id": "S9VoLbGtMs9w",
        "outputId": "1cdbe18c-2f67-48b5-fd2c-f0e26e524e93"
      },
      "execution_count": null,
      "outputs": [
        {
          "output_type": "stream",
          "name": "stdout",
          "text": [
            "9/9 [==============================] - 0s 3ms/step - loss: 3175.2612 - mae: 3175.2612\n"
          ]
        },
        {
          "output_type": "execute_result",
          "data": {
            "text/plain": [
              "[3175.26123046875, 3175.26123046875]"
            ]
          },
          "metadata": {},
          "execution_count": 14
        }
      ]
    },
    {
      "cell_type": "code",
      "source": [
        "X_test_normal\n"
      ],
      "metadata": {
        "colab": {
          "base_uri": "https://localhost:8080/"
        },
        "id": "bfJ-gQxSN31C",
        "outputId": "912bddb5-65bc-4f93-fb78-f2f2c22d51c8"
      },
      "execution_count": null,
      "outputs": [
        {
          "output_type": "execute_result",
          "data": {
            "text/plain": [
              "array([[0.58695652, 0.24791499, 0.4       , ..., 0.        , 0.        ,\n",
              "        0.        ],\n",
              "       [0.39130435, 0.37826204, 0.        , ..., 1.        , 0.        ,\n",
              "        0.        ],\n",
              "       [1.        , 0.29391983, 0.        , ..., 1.        , 0.        ,\n",
              "        0.        ],\n",
              "       ...,\n",
              "       [0.43478261, 0.32458972, 0.2       , ..., 0.        , 0.        ,\n",
              "        0.        ],\n",
              "       [0.7826087 , 0.84611246, 0.        , ..., 0.        , 1.        ,\n",
              "        0.        ],\n",
              "       [0.7173913 , 0.49071832, 0.2       , ..., 0.        , 0.        ,\n",
              "        1.        ]])"
            ]
          },
          "metadata": {},
          "execution_count": 15
        }
      ]
    },
    {
      "cell_type": "code",
      "source": [
        "input=tf.constant([0.2,0.4,0.5,1,0,0,1,1,0,0,1])"
      ],
      "metadata": {
        "id": "a1YyliX5Ndcy"
      },
      "execution_count": null,
      "outputs": []
    },
    {
      "cell_type": "code",
      "source": [
        "input.shape"
      ],
      "metadata": {
        "colab": {
          "base_uri": "https://localhost:8080/"
        },
        "id": "_lRlAuUNOdxR",
        "outputId": "2111b618-f7e3-44e3-c275-1a9bbf0df0d3"
      },
      "execution_count": null,
      "outputs": [
        {
          "output_type": "execute_result",
          "data": {
            "text/plain": [
              "TensorShape([11])"
            ]
          },
          "metadata": {},
          "execution_count": 17
        }
      ]
    },
    {
      "cell_type": "code",
      "source": [
        "input = tf.expand_dims(input, axis=-2)"
      ],
      "metadata": {
        "id": "q9NjdOOCPf7C"
      },
      "execution_count": null,
      "outputs": []
    },
    {
      "cell_type": "code",
      "source": [
        "model.summary()"
      ],
      "metadata": {
        "colab": {
          "base_uri": "https://localhost:8080/"
        },
        "id": "2Ki05EwlPkqD",
        "outputId": "b25a5c69-0b29-4a8a-e3d7-aed1fa54d4ab"
      },
      "execution_count": null,
      "outputs": [
        {
          "output_type": "stream",
          "name": "stdout",
          "text": [
            "Model: \"sequential\"\n",
            "_________________________________________________________________\n",
            " Layer (type)                Output Shape              Param #   \n",
            "=================================================================\n",
            " dense (Dense)               (None, 100)               1200      \n",
            "                                                                 \n",
            " dense_1 (Dense)             (None, 10)                1010      \n",
            "                                                                 \n",
            " dense_2 (Dense)             (None, 5)                 55        \n",
            "                                                                 \n",
            " dense_3 (Dense)             (None, 1)                 6         \n",
            "                                                                 \n",
            "=================================================================\n",
            "Total params: 2,271\n",
            "Trainable params: 2,271\n",
            "Non-trainable params: 0\n",
            "_________________________________________________________________\n"
          ]
        }
      ]
    },
    {
      "cell_type": "code",
      "source": [
        "model.predict(input)"
      ],
      "metadata": {
        "colab": {
          "base_uri": "https://localhost:8080/"
        },
        "id": "tEDgI-5RPpen",
        "outputId": "66eade42-1118-4f88-8e18-b9c9d459bbff"
      },
      "execution_count": null,
      "outputs": [
        {
          "output_type": "execute_result",
          "data": {
            "text/plain": [
              "array([[39597.277]], dtype=float32)"
            ]
          },
          "metadata": {},
          "execution_count": 20
        }
      ]
    },
    {
      "cell_type": "code",
      "source": [
        ""
      ],
      "metadata": {
        "id": "i6pmO1VWQQN1"
      },
      "execution_count": null,
      "outputs": []
    },
    {
      "cell_type": "code",
      "source": [
        ""
      ],
      "metadata": {
        "id": "cHW_PxeAQ9Kx"
      },
      "execution_count": null,
      "outputs": []
    }
  ]
}