{
  "nbformat": 4,
  "nbformat_minor": 0,
  "metadata": {
    "colab": {
      "name": "Cancer classification model",
      "provenance": [],
      "authorship_tag": "ABX9TyPShaeo/stakofc/zmOWbx9",
      "include_colab_link": true
    },
    "kernelspec": {
      "name": "python3",
      "display_name": "Python 3"
    },
    "language_info": {
      "name": "python"
    }
  },
  "cells": [
    {
      "cell_type": "markdown",
      "metadata": {
        "id": "view-in-github",
        "colab_type": "text"
      },
      "source": [
        "<a href=\"https://colab.research.google.com/github/johnvb21/DeepLearning/blob/main/Cancer_classification_model.ipynb\" target=\"_parent\"><img src=\"https://colab.research.google.com/assets/colab-badge.svg\" alt=\"Open In Colab\"/></a>"
      ]
    },
    {
      "cell_type": "code",
      "execution_count": null,
      "metadata": {
        "id": "mn73AOmcdllL"
      },
      "outputs": [],
      "source": [
        "import tensorflow as tf\n",
        "import pandas as pd\n",
        "import numpy as np\n",
        "import sklearn\n",
        "import matplotlib.pyplot as plt\n",
        "from sklearn.model_selection import train_test_split\n",
        "from sklearn.compose import make_column_transformer\n",
        "from sklearn.preprocessing import MinMaxScaler, OneHotEncoder"
      ]
    },
    {
      "cell_type": "code",
      "source": [
        "cancer = pd.read_csv(\"/content/breast-cancer.csv\")"
      ],
      "metadata": {
        "id": "g6y8W3gWeMeu"
      },
      "execution_count": null,
      "outputs": []
    },
    {
      "cell_type": "code",
      "source": [
        "cancer = cancer.drop(\"id\", axis=1)\n",
        "preprocess = make_column_transformer(\n",
        "    (MinMaxScaler(), [\"radius_mean\",\n",
        "                      \"texture_mean\",\n",
        "                      \"perimeter_mean\",\n",
        "                      \"area_mean\",\n",
        "                      \"smoothness_mean\",\n",
        "                      \"compactness_mean\",\n",
        "                      \"concavity_mean\",\n",
        "                      \"concave points_mean\",\n",
        "                      \"symmetry_mean\",\n",
        "                      \"fractal_dimension_mean\",\n",
        "                      \"radius_se\",\n",
        "                      \"texture_se\",\n",
        "                      \"perimeter_se\",\n",
        "                      \"area_se\",\n",
        "                      \"smoothness_se\",\n",
        "                      \"compactness_se\",\n",
        "                      \"concavity_se\",\n",
        "                      \"concave points_se\",\n",
        "                      \"symmetry_se\",\n",
        "                      \"fractal_dimension_se\",\n",
        "                      \"radius_worst\",\n",
        "                      \"texture_worst\",\n",
        "                      \"perimeter_worst\",\n",
        "                      \"area_worst\",\n",
        "                      \"smoothness_worst\",\n",
        "                      \"compactness_worst\",\n",
        "                      \"concavity_worst\",\n",
        "                      \"concave points_worst\",\n",
        "                      \"symmetry_worst\",\n",
        "                      \"fractal_dimension_worst\"]), sparse_threshold=0\n",
        ")"
      ],
      "metadata": {
        "id": "PzDb-qOgeiKY"
      },
      "execution_count": null,
      "outputs": []
    },
    {
      "cell_type": "code",
      "source": [
        "preprocess"
      ],
      "metadata": {
        "colab": {
          "base_uri": "https://localhost:8080/"
        },
        "id": "WbeawZSBep6v",
        "outputId": "31313979-1bcb-47a9-d628-6186b6400240"
      },
      "execution_count": null,
      "outputs": [
        {
          "output_type": "execute_result",
          "data": {
            "text/plain": [
              "ColumnTransformer(sparse_threshold=0,\n",
              "                  transformers=[('minmaxscaler', MinMaxScaler(),\n",
              "                                 ['radius_mean', 'texture_mean',\n",
              "                                  'perimeter_mean', 'area_mean',\n",
              "                                  'smoothness_mean', 'compactness_mean',\n",
              "                                  'concavity_mean', 'concave points_mean',\n",
              "                                  'symmetry_mean', 'fractal_dimension_mean',\n",
              "                                  'radius_se', 'texture_se', 'perimeter_se',\n",
              "                                  'area_se', 'smoothness_se', 'compactness_se',\n",
              "                                  'concavity_se', 'concave points_se',\n",
              "                                  'symmetry_se', 'fractal_dimension_se',\n",
              "                                  'radius_worst', 'texture_worst',\n",
              "                                  'perimeter_worst', 'area_worst',\n",
              "                                  'smoothness_worst', 'compactness_worst',\n",
              "                                  'concavity_worst', 'concave points_worst',\n",
              "                                  'symmetry_worst',\n",
              "                                  'fractal_dimension_worst'])])"
            ]
          },
          "metadata": {},
          "execution_count": 305
        }
      ]
    },
    {
      "cell_type": "code",
      "source": [
        "def plot_dec(model, X, Y):\n",
        "  X_min, X_max = X[:, 0].min() -0.1, X[:,0].max() +0.1\n",
        "  Y_min, Y_max = X[:, 1].min() -0.1, X[:, 1].max() +0.1\n",
        "  xx, yy = np.meshgrid(np.linspace(X_min, X_max, 100), \n",
        "                       np.linspace(Y_min, Y_max, 100))\n",
        "  x_in = np.c_[xx.ravel(), yy.ravel()]\n",
        "  y_pred = model.predict(x_in)\n",
        "  \n",
        "  if len(y_pred[0]) > 1:\n",
        "    print(\"doing multiclass classification\")\n",
        "    y_pred = np.argmax(y_pred, axis=1).reshape(xx.shape)\n",
        "  \n",
        "  else:\n",
        "    print(\"doing binary classification\")\n",
        "    y_pred = np.round(y_pred).reshape(xx.shape)\n",
        "  \n",
        "  plt.contourf(xx, yy, y_pred, cmap=plt.cm.RdYlBu, alpha=0.7)\n",
        "  plt.scatter(X[:,0], X[:,1], c=Y, s=40, cmap=plt.cm.RdYlBu)\n",
        "  plt.xlim(xx.min(), xx.max())\n",
        "  plt.ylim(yy.min(), yy.max())\n"
      ],
      "metadata": {
        "id": "ni5VQ0Nmjoj9"
      },
      "execution_count": null,
      "outputs": []
    },
    {
      "cell_type": "code",
      "source": [
        "X = cancer.drop(\"diagnosis\", axis=1)"
      ],
      "metadata": {
        "id": "qqMc6aQKjxSI"
      },
      "execution_count": null,
      "outputs": []
    },
    {
      "cell_type": "code",
      "source": [
        "from tensorflow.python.ops.gen_array_ops import one_hot\n",
        "Y = cancer[\"diagnosis\"]\n",
        "\n"
      ],
      "metadata": {
        "id": "tb76rDHbkGaM"
      },
      "execution_count": null,
      "outputs": []
    },
    {
      "cell_type": "code",
      "source": [
        "X_train, X_test, Y_train, Y_test = train_test_split(X, Y, test_size = 0.20, random_state=42) "
      ],
      "metadata": {
        "id": "-5Q8i_-Ekfkp"
      },
      "execution_count": null,
      "outputs": []
    },
    {
      "cell_type": "code",
      "source": [
        "Y_one_hot_train = []\n",
        "for i in Y_train:\n",
        "  if i == 'M':\n",
        "    Y_one_hot_train.append(1)\n",
        "  else:\n",
        "    Y_one_hot_train.append(0)\n",
        "\n",
        "Y_one_hot_train =tf.constant(Y_one_hot_train)\n",
        "preprocess.fit(X_train)\n",
        "\n",
        "Y_one_hot_test = []\n",
        "for i in Y_test:\n",
        "  if i == 'M':\n",
        "    Y_one_hot_test.append(1)\n",
        "  else:\n",
        "    Y_one_hot_test.append(0)\n",
        "\n",
        "Y_one_hot_test =tf.constant(Y_one_hot_test)\n",
        "preprocess.fit(X_train)"
      ],
      "metadata": {
        "colab": {
          "base_uri": "https://localhost:8080/"
        },
        "id": "D0zOz6asHW_h",
        "outputId": "2aad023f-62f0-4810-f223-132e5f5b6548"
      },
      "execution_count": null,
      "outputs": [
        {
          "output_type": "execute_result",
          "data": {
            "text/plain": [
              "ColumnTransformer(sparse_threshold=0,\n",
              "                  transformers=[('minmaxscaler', MinMaxScaler(),\n",
              "                                 ['radius_mean', 'texture_mean',\n",
              "                                  'perimeter_mean', 'area_mean',\n",
              "                                  'smoothness_mean', 'compactness_mean',\n",
              "                                  'concavity_mean', 'concave points_mean',\n",
              "                                  'symmetry_mean', 'fractal_dimension_mean',\n",
              "                                  'radius_se', 'texture_se', 'perimeter_se',\n",
              "                                  'area_se', 'smoothness_se', 'compactness_se',\n",
              "                                  'concavity_se', 'concave points_se',\n",
              "                                  'symmetry_se', 'fractal_dimension_se',\n",
              "                                  'radius_worst', 'texture_worst',\n",
              "                                  'perimeter_worst', 'area_worst',\n",
              "                                  'smoothness_worst', 'compactness_worst',\n",
              "                                  'concavity_worst', 'concave points_worst',\n",
              "                                  'symmetry_worst',\n",
              "                                  'fractal_dimension_worst'])])"
            ]
          },
          "metadata": {},
          "execution_count": 310
        }
      ]
    },
    {
      "cell_type": "code",
      "source": [
        "X_train_normal =preprocess.transform(X_train)\n",
        "X_test_normal = preprocess.transform(X_test)"
      ],
      "metadata": {
        "id": "cVwX4qqZHjiO"
      },
      "execution_count": null,
      "outputs": []
    },
    {
      "cell_type": "code",
      "source": [
        "tf.random.set_seed(42)"
      ],
      "metadata": {
        "id": "K8cA4B4xJfSO"
      },
      "execution_count": null,
      "outputs": []
    },
    {
      "cell_type": "code",
      "source": [
        "model = tf.keras.Sequential([\n",
        "  tf.keras.layers.Dense(100, activation= 'relu'),\n",
        "  tf.keras.layers.Dense(50, activation='relu'),\n",
        "  tf.keras.layers.Dense(1, activation= 'sigmoid')                             \n",
        "])"
      ],
      "metadata": {
        "id": "W0tcPGWJJvOX"
      },
      "execution_count": null,
      "outputs": []
    },
    {
      "cell_type": "code",
      "source": [
        "model.compile(loss=\"binary_crossentropy\",\n",
        "              optimizer=tf.keras.optimizers.Adam(),\n",
        "              metrics=['accuracy'])"
      ],
      "metadata": {
        "id": "wqt_OedbKwp-"
      },
      "execution_count": null,
      "outputs": []
    },
    {
      "cell_type": "code",
      "source": [
        "model.fit(X_train_normal, Y_one_hot_train, epochs = 50)"
      ],
      "metadata": {
        "colab": {
          "base_uri": "https://localhost:8080/"
        },
        "id": "KcFVjIZcLANl",
        "outputId": "80c24701-9f58-457c-ac1c-862d952fb467"
      },
      "execution_count": null,
      "outputs": [
        {
          "output_type": "stream",
          "name": "stdout",
          "text": [
            "Epoch 1/50\n",
            "15/15 [==============================] - 1s 2ms/step - loss: 0.6562 - accuracy: 0.7648\n",
            "Epoch 2/50\n",
            "15/15 [==============================] - 0s 3ms/step - loss: 0.5749 - accuracy: 0.7890\n",
            "Epoch 3/50\n",
            "15/15 [==============================] - 0s 2ms/step - loss: 0.4786 - accuracy: 0.8725\n",
            "Epoch 4/50\n",
            "15/15 [==============================] - 0s 2ms/step - loss: 0.3783 - accuracy: 0.8769\n",
            "Epoch 5/50\n",
            "15/15 [==============================] - 0s 2ms/step - loss: 0.2972 - accuracy: 0.9011\n",
            "Epoch 6/50\n",
            "15/15 [==============================] - 0s 4ms/step - loss: 0.2419 - accuracy: 0.9143\n",
            "Epoch 7/50\n",
            "15/15 [==============================] - 0s 3ms/step - loss: 0.2212 - accuracy: 0.9055\n",
            "Epoch 8/50\n",
            "15/15 [==============================] - 0s 2ms/step - loss: 0.1905 - accuracy: 0.9253\n",
            "Epoch 9/50\n",
            "15/15 [==============================] - 0s 3ms/step - loss: 0.1758 - accuracy: 0.9385\n",
            "Epoch 10/50\n",
            "15/15 [==============================] - 0s 3ms/step - loss: 0.1599 - accuracy: 0.9407\n",
            "Epoch 11/50\n",
            "15/15 [==============================] - 0s 3ms/step - loss: 0.1497 - accuracy: 0.9407\n",
            "Epoch 12/50\n",
            "15/15 [==============================] - 0s 3ms/step - loss: 0.1375 - accuracy: 0.9538\n",
            "Epoch 13/50\n",
            "15/15 [==============================] - 0s 2ms/step - loss: 0.1230 - accuracy: 0.9604\n",
            "Epoch 14/50\n",
            "15/15 [==============================] - 0s 2ms/step - loss: 0.1265 - accuracy: 0.9473\n",
            "Epoch 15/50\n",
            "15/15 [==============================] - 0s 2ms/step - loss: 0.1224 - accuracy: 0.9538\n",
            "Epoch 16/50\n",
            "15/15 [==============================] - 0s 3ms/step - loss: 0.1161 - accuracy: 0.9604\n",
            "Epoch 17/50\n",
            "15/15 [==============================] - 0s 2ms/step - loss: 0.0980 - accuracy: 0.9758\n",
            "Epoch 18/50\n",
            "15/15 [==============================] - 0s 2ms/step - loss: 0.0983 - accuracy: 0.9714\n",
            "Epoch 19/50\n",
            "15/15 [==============================] - 0s 2ms/step - loss: 0.0925 - accuracy: 0.9758\n",
            "Epoch 20/50\n",
            "15/15 [==============================] - 0s 3ms/step - loss: 0.0868 - accuracy: 0.9736\n",
            "Epoch 21/50\n",
            "15/15 [==============================] - 0s 2ms/step - loss: 0.0798 - accuracy: 0.9824\n",
            "Epoch 22/50\n",
            "15/15 [==============================] - 0s 2ms/step - loss: 0.0839 - accuracy: 0.9736\n",
            "Epoch 23/50\n",
            "15/15 [==============================] - 0s 2ms/step - loss: 0.0746 - accuracy: 0.9824\n",
            "Epoch 24/50\n",
            "15/15 [==============================] - 0s 2ms/step - loss: 0.0732 - accuracy: 0.9802\n",
            "Epoch 25/50\n",
            "15/15 [==============================] - 0s 2ms/step - loss: 0.0735 - accuracy: 0.9736\n",
            "Epoch 26/50\n",
            "15/15 [==============================] - 0s 2ms/step - loss: 0.0704 - accuracy: 0.9714\n",
            "Epoch 27/50\n",
            "15/15 [==============================] - 0s 2ms/step - loss: 0.0664 - accuracy: 0.9846\n",
            "Epoch 28/50\n",
            "15/15 [==============================] - 0s 2ms/step - loss: 0.0642 - accuracy: 0.9824\n",
            "Epoch 29/50\n",
            "15/15 [==============================] - 0s 2ms/step - loss: 0.0741 - accuracy: 0.9802\n",
            "Epoch 30/50\n",
            "15/15 [==============================] - 0s 2ms/step - loss: 0.0616 - accuracy: 0.9846\n",
            "Epoch 31/50\n",
            "15/15 [==============================] - 0s 2ms/step - loss: 0.0592 - accuracy: 0.9868\n",
            "Epoch 32/50\n",
            "15/15 [==============================] - 0s 3ms/step - loss: 0.0588 - accuracy: 0.9868\n",
            "Epoch 33/50\n",
            "15/15 [==============================] - 0s 2ms/step - loss: 0.0584 - accuracy: 0.9868\n",
            "Epoch 34/50\n",
            "15/15 [==============================] - 0s 3ms/step - loss: 0.0590 - accuracy: 0.9846\n",
            "Epoch 35/50\n",
            "15/15 [==============================] - 0s 2ms/step - loss: 0.0566 - accuracy: 0.9846\n",
            "Epoch 36/50\n",
            "15/15 [==============================] - 0s 2ms/step - loss: 0.0542 - accuracy: 0.9824\n",
            "Epoch 37/50\n",
            "15/15 [==============================] - 0s 2ms/step - loss: 0.0535 - accuracy: 0.9868\n",
            "Epoch 38/50\n",
            "15/15 [==============================] - 0s 2ms/step - loss: 0.0561 - accuracy: 0.9868\n",
            "Epoch 39/50\n",
            "15/15 [==============================] - 0s 3ms/step - loss: 0.0588 - accuracy: 0.9802\n",
            "Epoch 40/50\n",
            "15/15 [==============================] - 0s 2ms/step - loss: 0.0611 - accuracy: 0.9780\n",
            "Epoch 41/50\n",
            "15/15 [==============================] - 0s 2ms/step - loss: 0.0490 - accuracy: 0.9868\n",
            "Epoch 42/50\n",
            "15/15 [==============================] - 0s 2ms/step - loss: 0.0562 - accuracy: 0.9846\n",
            "Epoch 43/50\n",
            "15/15 [==============================] - 0s 2ms/step - loss: 0.0490 - accuracy: 0.9890\n",
            "Epoch 44/50\n",
            "15/15 [==============================] - 0s 2ms/step - loss: 0.0489 - accuracy: 0.9868\n",
            "Epoch 45/50\n",
            "15/15 [==============================] - 0s 2ms/step - loss: 0.0468 - accuracy: 0.9912\n",
            "Epoch 46/50\n",
            "15/15 [==============================] - 0s 3ms/step - loss: 0.0475 - accuracy: 0.9868\n",
            "Epoch 47/50\n",
            "15/15 [==============================] - 0s 2ms/step - loss: 0.0476 - accuracy: 0.9824\n",
            "Epoch 48/50\n",
            "15/15 [==============================] - 0s 2ms/step - loss: 0.0440 - accuracy: 0.9890\n",
            "Epoch 49/50\n",
            "15/15 [==============================] - 0s 2ms/step - loss: 0.0430 - accuracy: 0.9868\n",
            "Epoch 50/50\n",
            "15/15 [==============================] - 0s 2ms/step - loss: 0.0437 - accuracy: 0.9890\n"
          ]
        },
        {
          "output_type": "execute_result",
          "data": {
            "text/plain": [
              "<keras.callbacks.History at 0x7f181645a0d0>"
            ]
          },
          "metadata": {},
          "execution_count": 315
        }
      ]
    },
    {
      "cell_type": "code",
      "source": [
        "model.evaluate(X_test_normal, Y_one_hot_test)"
      ],
      "metadata": {
        "colab": {
          "base_uri": "https://localhost:8080/"
        },
        "id": "fxKPS9zHOsZ-",
        "outputId": "265298d1-e2f9-42d2-ef0b-3b90c3c29cc8"
      },
      "execution_count": null,
      "outputs": [
        {
          "output_type": "stream",
          "name": "stdout",
          "text": [
            "4/4 [==============================] - 0s 3ms/step - loss: 0.0614 - accuracy: 0.9737\n"
          ]
        },
        {
          "output_type": "execute_result",
          "data": {
            "text/plain": [
              "[0.06141766160726547, 0.9736841917037964]"
            ]
          },
          "metadata": {},
          "execution_count": 316
        }
      ]
    }
  ]
}